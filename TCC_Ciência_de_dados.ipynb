{
  "cells": [
    {
      "cell_type": "markdown",
      "source": [
        "#PUC Minas - Pontifícia Universidade Católica de Minas Gerais\n",
        "\n",
        "##Pós-Graduação em Ciência de Dados e Big Data\n",
        "\n",
        "TRABALHO DE CONCLUSÃO DE CURSO\n",
        "\n",
        "**ESTUDO SOBRE O CONSUMO DE MEDICAMENTOS EM UM HOSPITAL NO RIO GRANDE DO SUL **\n",
        "\n",
        "Aluna: Tainara Guadagnin Marcon\n",
        "\n",
        "Este notebook é referente aos códigos elaborados em Python e utilizados no Trabalho de Conclusão de Curso em Ciência de Dados e Big Data da Pós-Graduação da PUC Minas, especificamente para a criação dos modelos de Machine Learning."
      ],
      "metadata": {
        "id": "NOWKZyjdToaa"
      }
    },
    {
      "cell_type": "markdown",
      "metadata": {
        "id": "MakBTl8an-H6"
      },
      "source": [
        "#Importação de bibliotecas"
      ]
    },
    {
      "cell_type": "code",
      "execution_count": null,
      "metadata": {
        "id": "FJuEYH8dnjyh",
        "colab": {
          "base_uri": "https://localhost:8080/"
        },
        "outputId": "c474f74c-7d47-45ae-b374-598929a3904b"
      },
      "outputs": [
        {
          "output_type": "stream",
          "name": "stdout",
          "text": [
            "\u001b[2K     \u001b[90m━━━━━━━━━━━━━━━━━━━━━━━━━━━━━━━━━━━━━━━━\u001b[0m \u001b[32m15.2/15.2 MB\u001b[0m \u001b[31m14.5 MB/s\u001b[0m eta \u001b[36m0:00:00\u001b[0m\n",
            "\u001b[?25h"
          ]
        }
      ],
      "source": [
        "!pip -q install yellowbrick\n",
        "!pip -q install plotly --upgrade"
      ]
    },
    {
      "cell_type": "code",
      "execution_count": null,
      "metadata": {
        "id": "zCf_IvPXnmfP"
      },
      "outputs": [],
      "source": [
        "import pandas as pd\n",
        "import numpy as np\n",
        "import seaborn as sns\n",
        "import matplotlib.pyplot as plt\n",
        "import matplotlib.pyplot\n",
        "import plotly.express as px"
      ]
    },
    {
      "cell_type": "markdown",
      "metadata": {
        "id": "yS0L-cQ4oCug"
      },
      "source": [
        "#Coleta de dados"
      ]
    },
    {
      "cell_type": "code",
      "execution_count": null,
      "metadata": {
        "colab": {
          "base_uri": "https://localhost:8080/"
        },
        "id": "_C8DBEgtscLJ",
        "outputId": "026b1800-8b88-4c5d-d6ff-1db0db61163b"
      },
      "outputs": [
        {
          "output_type": "stream",
          "name": "stdout",
          "text": [
            "Mounted at /content/drive\n"
          ]
        }
      ],
      "source": [
        "from google.colab import drive\n",
        "drive.mount ('/content/drive')"
      ]
    },
    {
      "cell_type": "code",
      "execution_count": null,
      "metadata": {
        "id": "23Q5shHsoCWi"
      },
      "outputs": [],
      "source": [
        "consumo_med = pd.read_excel('/content/drive/My Drive/TCC_Ciência_de_Dados_e_Big_Data/Consumo_de_medicamentos_2019.xlsx')"
      ]
    },
    {
      "cell_type": "code",
      "execution_count": null,
      "metadata": {
        "id": "0GwebArLOE8A",
        "colab": {
          "base_uri": "https://localhost:8080/"
        },
        "outputId": "4c0cd6da-2570-452b-c163-5a0499904e2c"
      },
      "outputs": [
        {
          "output_type": "stream",
          "name": "stdout",
          "text": [
            "<class 'pandas.core.frame.DataFrame'>\n",
            "RangeIndex: 2613 entries, 0 to 2612\n",
            "Data columns (total 8 columns):\n",
            " #   Column           Non-Null Count  Dtype  \n",
            "---  ------           --------------  -----  \n",
            " 0   MÊS              2613 non-null   float64\n",
            " 1   CENTRO DE CUSTO  2613 non-null   object \n",
            " 2   CONTA CONTÁBIL   2613 non-null   object \n",
            " 3   MEDICAMENTO      2613 non-null   object \n",
            " 4   ESTABELECIMENTO  2613 non-null   object \n",
            " 5   DEPÓSITO         2613 non-null   object \n",
            " 6   CONSUMO          2613 non-null   float64\n",
            " 7   TIPO CONSUMO     2613 non-null   object \n",
            "dtypes: float64(2), object(6)\n",
            "memory usage: 163.4+ KB\n"
          ]
        }
      ],
      "source": [
        "consumo_med.info()"
      ]
    },
    {
      "cell_type": "code",
      "execution_count": null,
      "metadata": {
        "id": "QtNfHvujnoiq",
        "colab": {
          "base_uri": "https://localhost:8080/"
        },
        "outputId": "354479ff-5d6d-4b19-c27b-3bacf8c7baaf"
      },
      "outputs": [
        {
          "output_type": "execute_result",
          "data": {
            "text/plain": [
              "(2613, 8)"
            ]
          },
          "metadata": {},
          "execution_count": 7
        }
      ],
      "source": [
        "consumo_med.shape"
      ]
    },
    {
      "cell_type": "code",
      "execution_count": null,
      "metadata": {
        "id": "kEUG2y2EpcOI",
        "colab": {
          "base_uri": "https://localhost:8080/",
          "height": 206
        },
        "outputId": "3ffac3a3-d7cf-42a6-9652-d1823999baae"
      },
      "outputs": [
        {
          "output_type": "execute_result",
          "data": {
            "text/plain": [
              "   MÊS              CENTRO DE CUSTO  \\\n",
              "0  4.0  520433 - Pronto Atendimento   \n",
              "1  4.0  520433 - Pronto Atendimento   \n",
              "2  4.0  520433 - Pronto Atendimento   \n",
              "3  4.0  520433 - Pronto Atendimento   \n",
              "4  4.0  520433 - Pronto Atendimento   \n",
              "\n",
              "                              CONTA CONTÁBIL       MEDICAMENTO  \\\n",
              "0  4421190122101 - MEDICAMENTOS HOSPITALARES       ANALGESICOS   \n",
              "1  4421190122101 - MEDICAMENTOS HOSPITALARES       ANESTESICOS   \n",
              "2  4421190122101 - MEDICAMENTOS HOSPITALARES   ANTIBACTERIANOS   \n",
              "3  4421190122101 - MEDICAMENTOS HOSPITALARES         ANTIDOTOS   \n",
              "4  4421190122101 - MEDICAMENTOS HOSPITALARES      ANTIFUNGICOS   \n",
              "\n",
              "  ESTABELECIMENTO          DEPÓSITO  CONSUMO TIPO CONSUMO  \n",
              "0        HOSPITAL  FARMACIA CENTRAL   1388.0     Moderado  \n",
              "1        HOSPITAL  FARMACIA CENTRAL    214.0        Baixo  \n",
              "2        HOSPITAL  FARMACIA CENTRAL    174.0        Baixo  \n",
              "3        HOSPITAL  FARMACIA CENTRAL     17.0        Baixo  \n",
              "4        HOSPITAL  FARMACIA CENTRAL      1.0        Baixo  "
            ],
            "text/html": [
              "\n",
              "  <div id=\"df-7f8fd603-9753-4b09-ab35-718e8a19b779\">\n",
              "    <div class=\"colab-df-container\">\n",
              "      <div>\n",
              "<style scoped>\n",
              "    .dataframe tbody tr th:only-of-type {\n",
              "        vertical-align: middle;\n",
              "    }\n",
              "\n",
              "    .dataframe tbody tr th {\n",
              "        vertical-align: top;\n",
              "    }\n",
              "\n",
              "    .dataframe thead th {\n",
              "        text-align: right;\n",
              "    }\n",
              "</style>\n",
              "<table border=\"1\" class=\"dataframe\">\n",
              "  <thead>\n",
              "    <tr style=\"text-align: right;\">\n",
              "      <th></th>\n",
              "      <th>MÊS</th>\n",
              "      <th>CENTRO DE CUSTO</th>\n",
              "      <th>CONTA CONTÁBIL</th>\n",
              "      <th>MEDICAMENTO</th>\n",
              "      <th>ESTABELECIMENTO</th>\n",
              "      <th>DEPÓSITO</th>\n",
              "      <th>CONSUMO</th>\n",
              "      <th>TIPO CONSUMO</th>\n",
              "    </tr>\n",
              "  </thead>\n",
              "  <tbody>\n",
              "    <tr>\n",
              "      <th>0</th>\n",
              "      <td>4.0</td>\n",
              "      <td>520433 - Pronto Atendimento</td>\n",
              "      <td>4421190122101 - MEDICAMENTOS HOSPITALARES</td>\n",
              "      <td>ANALGESICOS</td>\n",
              "      <td>HOSPITAL</td>\n",
              "      <td>FARMACIA CENTRAL</td>\n",
              "      <td>1388.0</td>\n",
              "      <td>Moderado</td>\n",
              "    </tr>\n",
              "    <tr>\n",
              "      <th>1</th>\n",
              "      <td>4.0</td>\n",
              "      <td>520433 - Pronto Atendimento</td>\n",
              "      <td>4421190122101 - MEDICAMENTOS HOSPITALARES</td>\n",
              "      <td>ANESTESICOS</td>\n",
              "      <td>HOSPITAL</td>\n",
              "      <td>FARMACIA CENTRAL</td>\n",
              "      <td>214.0</td>\n",
              "      <td>Baixo</td>\n",
              "    </tr>\n",
              "    <tr>\n",
              "      <th>2</th>\n",
              "      <td>4.0</td>\n",
              "      <td>520433 - Pronto Atendimento</td>\n",
              "      <td>4421190122101 - MEDICAMENTOS HOSPITALARES</td>\n",
              "      <td>ANTIBACTERIANOS</td>\n",
              "      <td>HOSPITAL</td>\n",
              "      <td>FARMACIA CENTRAL</td>\n",
              "      <td>174.0</td>\n",
              "      <td>Baixo</td>\n",
              "    </tr>\n",
              "    <tr>\n",
              "      <th>3</th>\n",
              "      <td>4.0</td>\n",
              "      <td>520433 - Pronto Atendimento</td>\n",
              "      <td>4421190122101 - MEDICAMENTOS HOSPITALARES</td>\n",
              "      <td>ANTIDOTOS</td>\n",
              "      <td>HOSPITAL</td>\n",
              "      <td>FARMACIA CENTRAL</td>\n",
              "      <td>17.0</td>\n",
              "      <td>Baixo</td>\n",
              "    </tr>\n",
              "    <tr>\n",
              "      <th>4</th>\n",
              "      <td>4.0</td>\n",
              "      <td>520433 - Pronto Atendimento</td>\n",
              "      <td>4421190122101 - MEDICAMENTOS HOSPITALARES</td>\n",
              "      <td>ANTIFUNGICOS</td>\n",
              "      <td>HOSPITAL</td>\n",
              "      <td>FARMACIA CENTRAL</td>\n",
              "      <td>1.0</td>\n",
              "      <td>Baixo</td>\n",
              "    </tr>\n",
              "  </tbody>\n",
              "</table>\n",
              "</div>\n",
              "      <button class=\"colab-df-convert\" onclick=\"convertToInteractive('df-7f8fd603-9753-4b09-ab35-718e8a19b779')\"\n",
              "              title=\"Convert this dataframe to an interactive table.\"\n",
              "              style=\"display:none;\">\n",
              "        \n",
              "  <svg xmlns=\"http://www.w3.org/2000/svg\" height=\"24px\"viewBox=\"0 0 24 24\"\n",
              "       width=\"24px\">\n",
              "    <path d=\"M0 0h24v24H0V0z\" fill=\"none\"/>\n",
              "    <path d=\"M18.56 5.44l.94 2.06.94-2.06 2.06-.94-2.06-.94-.94-2.06-.94 2.06-2.06.94zm-11 1L8.5 8.5l.94-2.06 2.06-.94-2.06-.94L8.5 2.5l-.94 2.06-2.06.94zm10 10l.94 2.06.94-2.06 2.06-.94-2.06-.94-.94-2.06-.94 2.06-2.06.94z\"/><path d=\"M17.41 7.96l-1.37-1.37c-.4-.4-.92-.59-1.43-.59-.52 0-1.04.2-1.43.59L10.3 9.45l-7.72 7.72c-.78.78-.78 2.05 0 2.83L4 21.41c.39.39.9.59 1.41.59.51 0 1.02-.2 1.41-.59l7.78-7.78 2.81-2.81c.8-.78.8-2.07 0-2.86zM5.41 20L4 18.59l7.72-7.72 1.47 1.35L5.41 20z\"/>\n",
              "  </svg>\n",
              "      </button>\n",
              "      \n",
              "  <style>\n",
              "    .colab-df-container {\n",
              "      display:flex;\n",
              "      flex-wrap:wrap;\n",
              "      gap: 12px;\n",
              "    }\n",
              "\n",
              "    .colab-df-convert {\n",
              "      background-color: #E8F0FE;\n",
              "      border: none;\n",
              "      border-radius: 50%;\n",
              "      cursor: pointer;\n",
              "      display: none;\n",
              "      fill: #1967D2;\n",
              "      height: 32px;\n",
              "      padding: 0 0 0 0;\n",
              "      width: 32px;\n",
              "    }\n",
              "\n",
              "    .colab-df-convert:hover {\n",
              "      background-color: #E2EBFA;\n",
              "      box-shadow: 0px 1px 2px rgba(60, 64, 67, 0.3), 0px 1px 3px 1px rgba(60, 64, 67, 0.15);\n",
              "      fill: #174EA6;\n",
              "    }\n",
              "\n",
              "    [theme=dark] .colab-df-convert {\n",
              "      background-color: #3B4455;\n",
              "      fill: #D2E3FC;\n",
              "    }\n",
              "\n",
              "    [theme=dark] .colab-df-convert:hover {\n",
              "      background-color: #434B5C;\n",
              "      box-shadow: 0px 1px 3px 1px rgba(0, 0, 0, 0.15);\n",
              "      filter: drop-shadow(0px 1px 2px rgba(0, 0, 0, 0.3));\n",
              "      fill: #FFFFFF;\n",
              "    }\n",
              "  </style>\n",
              "\n",
              "      <script>\n",
              "        const buttonEl =\n",
              "          document.querySelector('#df-7f8fd603-9753-4b09-ab35-718e8a19b779 button.colab-df-convert');\n",
              "        buttonEl.style.display =\n",
              "          google.colab.kernel.accessAllowed ? 'block' : 'none';\n",
              "\n",
              "        async function convertToInteractive(key) {\n",
              "          const element = document.querySelector('#df-7f8fd603-9753-4b09-ab35-718e8a19b779');\n",
              "          const dataTable =\n",
              "            await google.colab.kernel.invokeFunction('convertToInteractive',\n",
              "                                                     [key], {});\n",
              "          if (!dataTable) return;\n",
              "\n",
              "          const docLinkHtml = 'Like what you see? Visit the ' +\n",
              "            '<a target=\"_blank\" href=https://colab.research.google.com/notebooks/data_table.ipynb>data table notebook</a>'\n",
              "            + ' to learn more about interactive tables.';\n",
              "          element.innerHTML = '';\n",
              "          dataTable['output_type'] = 'display_data';\n",
              "          await google.colab.output.renderOutput(dataTable, element);\n",
              "          const docLink = document.createElement('div');\n",
              "          docLink.innerHTML = docLinkHtml;\n",
              "          element.appendChild(docLink);\n",
              "        }\n",
              "      </script>\n",
              "    </div>\n",
              "  </div>\n",
              "  "
            ]
          },
          "metadata": {},
          "execution_count": 8
        }
      ],
      "source": [
        "consumo_med.head(5)"
      ]
    },
    {
      "cell_type": "markdown",
      "metadata": {
        "id": "aG3UFKgkpgrf"
      },
      "source": [
        "Para enriquecimento dos dados foi utilizada outra planilha em excel de outro setor da instituição chamado de setor de internação. Essa planilha contempla a quantidade de pacientes internados por mês e por área hospitalar."
      ]
    },
    {
      "cell_type": "code",
      "execution_count": null,
      "metadata": {
        "id": "XRzc0dc6pesB"
      },
      "outputs": [],
      "source": [
        "pacientes = pd.read_excel('/content/drive/My Drive/TCC_Ciência_de_Dados_e_Big_Data/Qtde_pacientes_2019.xlsx')"
      ]
    },
    {
      "cell_type": "code",
      "execution_count": null,
      "metadata": {
        "id": "4c711UPqOROK",
        "colab": {
          "base_uri": "https://localhost:8080/"
        },
        "outputId": "c371b4b7-143f-49f4-d300-93678e545f49"
      },
      "outputs": [
        {
          "output_type": "stream",
          "name": "stdout",
          "text": [
            "<class 'pandas.core.frame.DataFrame'>\n",
            "RangeIndex: 156 entries, 0 to 155\n",
            "Data columns (total 4 columns):\n",
            " #   Column                                    Non-Null Count  Dtype  \n",
            "---  ------                                    --------------  -----  \n",
            " 0   Ano                                       156 non-null    float64\n",
            " 1   Mês                                       156 non-null    object \n",
            " 2   Unidade de Atendimento                    156 non-null    object \n",
            " 3   Quantidade Total de Pacientes Internados  156 non-null    float64\n",
            "dtypes: float64(2), object(2)\n",
            "memory usage: 5.0+ KB\n"
          ]
        }
      ],
      "source": [
        "pacientes.info()"
      ]
    },
    {
      "cell_type": "code",
      "execution_count": null,
      "metadata": {
        "id": "Od7m20otqDLv",
        "colab": {
          "base_uri": "https://localhost:8080/"
        },
        "outputId": "e911a888-22ce-4834-80b8-af9cc3f41bbb"
      },
      "outputs": [
        {
          "output_type": "execute_result",
          "data": {
            "text/plain": [
              "(156, 4)"
            ]
          },
          "metadata": {},
          "execution_count": 11
        }
      ],
      "source": [
        "pacientes.shape"
      ]
    },
    {
      "cell_type": "code",
      "execution_count": null,
      "metadata": {
        "id": "GIJpHYRzqEy5",
        "colab": {
          "base_uri": "https://localhost:8080/",
          "height": 206
        },
        "outputId": "34cb6c29-292a-43de-83a8-8c2f3a2cfda8"
      },
      "outputs": [
        {
          "output_type": "execute_result",
          "data": {
            "text/plain": [
              "      Ano  Mês       Unidade de Atendimento  \\\n",
              "0  2019.0  Jan  520433 - Pronto Atendimento   \n",
              "1  2019.0  Fev  520433 - Pronto Atendimento   \n",
              "2  2019.0  Mar  520433 - Pronto Atendimento   \n",
              "3  2019.0  Abr  520433 - Pronto Atendimento   \n",
              "4  2019.0  Mai  520433 - Pronto Atendimento   \n",
              "\n",
              "   Quantidade Total de Pacientes Internados  \n",
              "0                                    6729.0  \n",
              "1                                    6228.0  \n",
              "2                                    7187.0  \n",
              "3                                    6847.0  \n",
              "4                                    7220.0  "
            ],
            "text/html": [
              "\n",
              "  <div id=\"df-c9c35700-5c9e-4343-b164-7f2c4d8e8938\">\n",
              "    <div class=\"colab-df-container\">\n",
              "      <div>\n",
              "<style scoped>\n",
              "    .dataframe tbody tr th:only-of-type {\n",
              "        vertical-align: middle;\n",
              "    }\n",
              "\n",
              "    .dataframe tbody tr th {\n",
              "        vertical-align: top;\n",
              "    }\n",
              "\n",
              "    .dataframe thead th {\n",
              "        text-align: right;\n",
              "    }\n",
              "</style>\n",
              "<table border=\"1\" class=\"dataframe\">\n",
              "  <thead>\n",
              "    <tr style=\"text-align: right;\">\n",
              "      <th></th>\n",
              "      <th>Ano</th>\n",
              "      <th>Mês</th>\n",
              "      <th>Unidade de Atendimento</th>\n",
              "      <th>Quantidade Total de Pacientes Internados</th>\n",
              "    </tr>\n",
              "  </thead>\n",
              "  <tbody>\n",
              "    <tr>\n",
              "      <th>0</th>\n",
              "      <td>2019.0</td>\n",
              "      <td>Jan</td>\n",
              "      <td>520433 - Pronto Atendimento</td>\n",
              "      <td>6729.0</td>\n",
              "    </tr>\n",
              "    <tr>\n",
              "      <th>1</th>\n",
              "      <td>2019.0</td>\n",
              "      <td>Fev</td>\n",
              "      <td>520433 - Pronto Atendimento</td>\n",
              "      <td>6228.0</td>\n",
              "    </tr>\n",
              "    <tr>\n",
              "      <th>2</th>\n",
              "      <td>2019.0</td>\n",
              "      <td>Mar</td>\n",
              "      <td>520433 - Pronto Atendimento</td>\n",
              "      <td>7187.0</td>\n",
              "    </tr>\n",
              "    <tr>\n",
              "      <th>3</th>\n",
              "      <td>2019.0</td>\n",
              "      <td>Abr</td>\n",
              "      <td>520433 - Pronto Atendimento</td>\n",
              "      <td>6847.0</td>\n",
              "    </tr>\n",
              "    <tr>\n",
              "      <th>4</th>\n",
              "      <td>2019.0</td>\n",
              "      <td>Mai</td>\n",
              "      <td>520433 - Pronto Atendimento</td>\n",
              "      <td>7220.0</td>\n",
              "    </tr>\n",
              "  </tbody>\n",
              "</table>\n",
              "</div>\n",
              "      <button class=\"colab-df-convert\" onclick=\"convertToInteractive('df-c9c35700-5c9e-4343-b164-7f2c4d8e8938')\"\n",
              "              title=\"Convert this dataframe to an interactive table.\"\n",
              "              style=\"display:none;\">\n",
              "        \n",
              "  <svg xmlns=\"http://www.w3.org/2000/svg\" height=\"24px\"viewBox=\"0 0 24 24\"\n",
              "       width=\"24px\">\n",
              "    <path d=\"M0 0h24v24H0V0z\" fill=\"none\"/>\n",
              "    <path d=\"M18.56 5.44l.94 2.06.94-2.06 2.06-.94-2.06-.94-.94-2.06-.94 2.06-2.06.94zm-11 1L8.5 8.5l.94-2.06 2.06-.94-2.06-.94L8.5 2.5l-.94 2.06-2.06.94zm10 10l.94 2.06.94-2.06 2.06-.94-2.06-.94-.94-2.06-.94 2.06-2.06.94z\"/><path d=\"M17.41 7.96l-1.37-1.37c-.4-.4-.92-.59-1.43-.59-.52 0-1.04.2-1.43.59L10.3 9.45l-7.72 7.72c-.78.78-.78 2.05 0 2.83L4 21.41c.39.39.9.59 1.41.59.51 0 1.02-.2 1.41-.59l7.78-7.78 2.81-2.81c.8-.78.8-2.07 0-2.86zM5.41 20L4 18.59l7.72-7.72 1.47 1.35L5.41 20z\"/>\n",
              "  </svg>\n",
              "      </button>\n",
              "      \n",
              "  <style>\n",
              "    .colab-df-container {\n",
              "      display:flex;\n",
              "      flex-wrap:wrap;\n",
              "      gap: 12px;\n",
              "    }\n",
              "\n",
              "    .colab-df-convert {\n",
              "      background-color: #E8F0FE;\n",
              "      border: none;\n",
              "      border-radius: 50%;\n",
              "      cursor: pointer;\n",
              "      display: none;\n",
              "      fill: #1967D2;\n",
              "      height: 32px;\n",
              "      padding: 0 0 0 0;\n",
              "      width: 32px;\n",
              "    }\n",
              "\n",
              "    .colab-df-convert:hover {\n",
              "      background-color: #E2EBFA;\n",
              "      box-shadow: 0px 1px 2px rgba(60, 64, 67, 0.3), 0px 1px 3px 1px rgba(60, 64, 67, 0.15);\n",
              "      fill: #174EA6;\n",
              "    }\n",
              "\n",
              "    [theme=dark] .colab-df-convert {\n",
              "      background-color: #3B4455;\n",
              "      fill: #D2E3FC;\n",
              "    }\n",
              "\n",
              "    [theme=dark] .colab-df-convert:hover {\n",
              "      background-color: #434B5C;\n",
              "      box-shadow: 0px 1px 3px 1px rgba(0, 0, 0, 0.15);\n",
              "      filter: drop-shadow(0px 1px 2px rgba(0, 0, 0, 0.3));\n",
              "      fill: #FFFFFF;\n",
              "    }\n",
              "  </style>\n",
              "\n",
              "      <script>\n",
              "        const buttonEl =\n",
              "          document.querySelector('#df-c9c35700-5c9e-4343-b164-7f2c4d8e8938 button.colab-df-convert');\n",
              "        buttonEl.style.display =\n",
              "          google.colab.kernel.accessAllowed ? 'block' : 'none';\n",
              "\n",
              "        async function convertToInteractive(key) {\n",
              "          const element = document.querySelector('#df-c9c35700-5c9e-4343-b164-7f2c4d8e8938');\n",
              "          const dataTable =\n",
              "            await google.colab.kernel.invokeFunction('convertToInteractive',\n",
              "                                                     [key], {});\n",
              "          if (!dataTable) return;\n",
              "\n",
              "          const docLinkHtml = 'Like what you see? Visit the ' +\n",
              "            '<a target=\"_blank\" href=https://colab.research.google.com/notebooks/data_table.ipynb>data table notebook</a>'\n",
              "            + ' to learn more about interactive tables.';\n",
              "          element.innerHTML = '';\n",
              "          dataTable['output_type'] = 'display_data';\n",
              "          await google.colab.output.renderOutput(dataTable, element);\n",
              "          const docLink = document.createElement('div');\n",
              "          docLink.innerHTML = docLinkHtml;\n",
              "          element.appendChild(docLink);\n",
              "        }\n",
              "      </script>\n",
              "    </div>\n",
              "  </div>\n",
              "  "
            ]
          },
          "metadata": {},
          "execution_count": 12
        }
      ],
      "source": [
        "pacientes.head(5)"
      ]
    },
    {
      "cell_type": "markdown",
      "metadata": {
        "id": "D9bbx0FUoKgt"
      },
      "source": [
        "#Tratamento de dados"
      ]
    },
    {
      "cell_type": "code",
      "execution_count": null,
      "metadata": {
        "id": "59bRH81SxQIn"
      },
      "outputs": [],
      "source": [
        "#Eliminando colunas desnecessárias \n",
        "consumo_med = consumo_med.drop(['CONTA CONTÁBIL', 'ESTABELECIMENTO', 'DEPÓSITO'], axis = 1)\n",
        "consumo_med.head(5)"
      ]
    },
    {
      "cell_type": "code",
      "execution_count": null,
      "metadata": {
        "id": "K_9QRiefxA1o"
      },
      "outputs": [],
      "source": [
        "#Renomeando as colunas\n",
        "consumo_med = consumo_med.rename(columns={'MÊS':'Mes','CENTRO DE CUSTO':'Setor',\n",
        "                                          'MEDICAMENTO':'Tipo_medicamento',\n",
        "                                          'CONSUMO':'Qtde_consumida', 'TIPO CONSUMO':'Classificacao'})"
      ]
    },
    {
      "cell_type": "code",
      "execution_count": null,
      "metadata": {
        "id": "XiWn6EKhydNR"
      },
      "outputs": [],
      "source": [
        "consumo_med.head(5)"
      ]
    },
    {
      "cell_type": "code",
      "execution_count": null,
      "metadata": {
        "id": "mbds-iGj6A1q"
      },
      "outputs": [],
      "source": [
        "consumo_med.isnull().sum()"
      ]
    },
    {
      "cell_type": "code",
      "execution_count": null,
      "metadata": {
        "id": "2WM4JnYo6Ktl"
      },
      "outputs": [],
      "source": [
        "#Renomeando as colunas base pacientes\n",
        "pacientes = pacientes.rename(columns={'Mês':'Mes',\n",
        "                        'Unidade de Atendimento': 'Setor',\n",
        "                        'Quantidade Total de Pacientes Internados': 'Qtde_pacientes'})"
      ]
    },
    {
      "cell_type": "code",
      "execution_count": null,
      "metadata": {
        "id": "jhmmG9UZO_6r"
      },
      "outputs": [],
      "source": [
        "pacientes.head(1)"
      ]
    },
    {
      "cell_type": "code",
      "execution_count": null,
      "metadata": {
        "id": "RvMf77KRJhWh"
      },
      "outputs": [],
      "source": [
        "pacientes.isnull().sum()"
      ]
    },
    {
      "cell_type": "code",
      "execution_count": null,
      "metadata": {
        "id": "blB3M6aCPROf"
      },
      "outputs": [],
      "source": [
        "#Para juntar os dois datasets\n",
        "consumo_medicamentos = pd.merge(consumo_med, pacientes, on='Setor')\n",
        "consumo_medicamentos.head(5)"
      ]
    },
    {
      "cell_type": "code",
      "execution_count": null,
      "metadata": {
        "id": "VYjxV68FrVz6"
      },
      "outputs": [],
      "source": [
        "#Eliminando as colunas duplicadas\n",
        "consumo_medicamentos = consumo_medicamentos.drop(['Ano','Mes_y'], axis = 1)"
      ]
    },
    {
      "cell_type": "code",
      "execution_count": null,
      "metadata": {
        "id": "nI6cGmheHvV-"
      },
      "outputs": [],
      "source": [
        "#Renomeando as colunas base final\n",
        "consumo_medicamentos = consumo_medicamentos.rename(columns={'Mes_x':'Mes'})"
      ]
    },
    {
      "cell_type": "code",
      "execution_count": null,
      "metadata": {
        "id": "v829TOSh8Olz"
      },
      "outputs": [],
      "source": [
        "#Alterando a ordem das colunas\n",
        "consumo_medicamentos = consumo_medicamentos[['Mes','Setor','Tipo_medicamento','Qtde_pacientes','Qtde_consumida','Classificacao']]"
      ]
    },
    {
      "cell_type": "markdown",
      "metadata": {
        "id": "Hz-YCpFQoNC1"
      },
      "source": [
        "#Análise exploratória"
      ]
    },
    {
      "cell_type": "code",
      "execution_count": null,
      "metadata": {
        "id": "WrMpHAoSWVoj"
      },
      "outputs": [],
      "source": [
        "#Tabela do somatório da quantidade de medicamentos consumidos por setor\n",
        "table = consumo_medicamentos.groupby('Setor')['Qtde_consumida'].sum().reset_index()"
      ]
    },
    {
      "cell_type": "code",
      "execution_count": null,
      "metadata": {
        "colab": {
          "base_uri": "https://localhost:8080/",
          "height": 510
        },
        "id": "mWLYViknFXOZ",
        "outputId": "b5419ef1-c419-4e9b-e073-98514287726a"
      },
      "outputs": [
        {
          "output_type": "execute_result",
          "data": {
            "text/plain": [
              "<matplotlib.axes._subplots.AxesSubplot at 0x7fe8e6cb2b80>"
            ]
          },
          "metadata": {},
          "execution_count": 25
        },
        {
          "output_type": "display_data",
          "data": {
            "text/plain": [
              "<Figure size 720x360 with 1 Axes>"
            ],
            "image/png": "[encoded data removed]"
          },
          "metadata": {
            "needs_background": "light"
          }
        }
      ],
      "source": [
        "#Gráfico do somatório da quantidade de medicamentos consumidos por setor\n",
        "grafico = table.sort_values('Qtde_consumida', ascending = False)\n",
        "plt.rcParams['figure.figsize'] = 10,5\n",
        "plt.xticks(rotation=90)\n",
        "plt.title('Quantidade de medicamentos consumidos por setor')\n",
        "sns.barplot(data=grafico, x='Setor', y='Qtde_consumida')"
      ]
    },
    {
      "cell_type": "code",
      "execution_count": null,
      "metadata": {
        "colab": {
          "base_uri": "https://localhost:8080/",
          "height": 457
        },
        "id": "rwKrUaYZob8L",
        "outputId": "5909e4bf-3e49-4d17-cf71-58e73d47ae76"
      },
      "outputs": [
        {
          "output_type": "execute_result",
          "data": {
            "text/plain": [
              "                           Setor  Qtde_pacientes\n",
              "0    520433 - Pronto Atendimento     6958.166667\n",
              "7      520472 - Centro Cirúrgico     1338.083333\n",
              "4             520453 - Setor 250      499.833333\n",
              "6             520455 - Setor 350      477.583333\n",
              "3             520452 - Setor 200      458.833333\n",
              "9             520493 - Setor 450      284.166667\n",
              "8             520492 - Setor 400      224.583333\n",
              "1         520445 - UTI Adulto II      180.750000\n",
              "11         520521 - UTI Neonatal      178.000000\n",
              "10    520495 - Centro Obstétrico      151.833333\n",
              "2   520448 - Unidade Coronariana       99.500000\n",
              "12        520526 - UTI Pediatria       84.250000\n",
              "5             520454 - Setor 300       62.333333"
            ],
            "text/html": [
              "\n",
              "  <div id=\"df-2c0ee8b2-7888-4465-8574-58063aec7d4f\">\n",
              "    <div class=\"colab-df-container\">\n",
              "      <div>\n",
              "<style scoped>\n",
              "    .dataframe tbody tr th:only-of-type {\n",
              "        vertical-align: middle;\n",
              "    }\n",
              "\n",
              "    .dataframe tbody tr th {\n",
              "        vertical-align: top;\n",
              "    }\n",
              "\n",
              "    .dataframe thead th {\n",
              "        text-align: right;\n",
              "    }\n",
              "</style>\n",
              "<table border=\"1\" class=\"dataframe\">\n",
              "  <thead>\n",
              "    <tr style=\"text-align: right;\">\n",
              "      <th></th>\n",
              "      <th>Setor</th>\n",
              "      <th>Qtde_pacientes</th>\n",
              "    </tr>\n",
              "  </thead>\n",
              "  <tbody>\n",
              "    <tr>\n",
              "      <th>0</th>\n",
              "      <td>520433 - Pronto Atendimento</td>\n",
              "      <td>6958.166667</td>\n",
              "    </tr>\n",
              "    <tr>\n",
              "      <th>7</th>\n",
              "      <td>520472 - Centro Cirúrgico</td>\n",
              "      <td>1338.083333</td>\n",
              "    </tr>\n",
              "    <tr>\n",
              "      <th>4</th>\n",
              "      <td>520453 - Setor 250</td>\n",
              "      <td>499.833333</td>\n",
              "    </tr>\n",
              "    <tr>\n",
              "      <th>6</th>\n",
              "      <td>520455 - Setor 350</td>\n",
              "      <td>477.583333</td>\n",
              "    </tr>\n",
              "    <tr>\n",
              "      <th>3</th>\n",
              "      <td>520452 - Setor 200</td>\n",
              "      <td>458.833333</td>\n",
              "    </tr>\n",
              "    <tr>\n",
              "      <th>9</th>\n",
              "      <td>520493 - Setor 450</td>\n",
              "      <td>284.166667</td>\n",
              "    </tr>\n",
              "    <tr>\n",
              "      <th>8</th>\n",
              "      <td>520492 - Setor 400</td>\n",
              "      <td>224.583333</td>\n",
              "    </tr>\n",
              "    <tr>\n",
              "      <th>1</th>\n",
              "      <td>520445 - UTI Adulto II</td>\n",
              "      <td>180.750000</td>\n",
              "    </tr>\n",
              "    <tr>\n",
              "      <th>11</th>\n",
              "      <td>520521 - UTI Neonatal</td>\n",
              "      <td>178.000000</td>\n",
              "    </tr>\n",
              "    <tr>\n",
              "      <th>10</th>\n",
              "      <td>520495 - Centro Obstétrico</td>\n",
              "      <td>151.833333</td>\n",
              "    </tr>\n",
              "    <tr>\n",
              "      <th>2</th>\n",
              "      <td>520448 - Unidade Coronariana</td>\n",
              "      <td>99.500000</td>\n",
              "    </tr>\n",
              "    <tr>\n",
              "      <th>12</th>\n",
              "      <td>520526 - UTI Pediatria</td>\n",
              "      <td>84.250000</td>\n",
              "    </tr>\n",
              "    <tr>\n",
              "      <th>5</th>\n",
              "      <td>520454 - Setor 300</td>\n",
              "      <td>62.333333</td>\n",
              "    </tr>\n",
              "  </tbody>\n",
              "</table>\n",
              "</div>\n",
              "      <button class=\"colab-df-convert\" onclick=\"convertToInteractive('df-2c0ee8b2-7888-4465-8574-58063aec7d4f')\"\n",
              "              title=\"Convert this dataframe to an interactive table.\"\n",
              "              style=\"display:none;\">\n",
              "        \n",
              "  <svg xmlns=\"http://www.w3.org/2000/svg\" height=\"24px\"viewBox=\"0 0 24 24\"\n",
              "       width=\"24px\">\n",
              "    <path d=\"M0 0h24v24H0V0z\" fill=\"none\"/>\n",
              "    <path d=\"M18.56 5.44l.94 2.06.94-2.06 2.06-.94-2.06-.94-.94-2.06-.94 2.06-2.06.94zm-11 1L8.5 8.5l.94-2.06 2.06-.94-2.06-.94L8.5 2.5l-.94 2.06-2.06.94zm10 10l.94 2.06.94-2.06 2.06-.94-2.06-.94-.94-2.06-.94 2.06-2.06.94z\"/><path d=\"M17.41 7.96l-1.37-1.37c-.4-.4-.92-.59-1.43-.59-.52 0-1.04.2-1.43.59L10.3 9.45l-7.72 7.72c-.78.78-.78 2.05 0 2.83L4 21.41c.39.39.9.59 1.41.59.51 0 1.02-.2 1.41-.59l7.78-7.78 2.81-2.81c.8-.78.8-2.07 0-2.86zM5.41 20L4 18.59l7.72-7.72 1.47 1.35L5.41 20z\"/>\n",
              "  </svg>\n",
              "      </button>\n",
              "      \n",
              "  <style>\n",
              "    .colab-df-container {\n",
              "      display:flex;\n",
              "      flex-wrap:wrap;\n",
              "      gap: 12px;\n",
              "    }\n",
              "\n",
              "    .colab-df-convert {\n",
              "      background-color: #E8F0FE;\n",
              "      border: none;\n",
              "      border-radius: 50%;\n",
              "      cursor: pointer;\n",
              "      display: none;\n",
              "      fill: #1967D2;\n",
              "      height: 32px;\n",
              "      padding: 0 0 0 0;\n",
              "      width: 32px;\n",
              "    }\n",
              "\n",
              "    .colab-df-convert:hover {\n",
              "      background-color: #E2EBFA;\n",
              "      box-shadow: 0px 1px 2px rgba(60, 64, 67, 0.3), 0px 1px 3px 1px rgba(60, 64, 67, 0.15);\n",
              "      fill: #174EA6;\n",
              "    }\n",
              "\n",
              "    [theme=dark] .colab-df-convert {\n",
              "      background-color: #3B4455;\n",
              "      fill: #D2E3FC;\n",
              "    }\n",
              "\n",
              "    [theme=dark] .colab-df-convert:hover {\n",
              "      background-color: #434B5C;\n",
              "      box-shadow: 0px 1px 3px 1px rgba(0, 0, 0, 0.15);\n",
              "      filter: drop-shadow(0px 1px 2px rgba(0, 0, 0, 0.3));\n",
              "      fill: #FFFFFF;\n",
              "    }\n",
              "  </style>\n",
              "\n",
              "      <script>\n",
              "        const buttonEl =\n",
              "          document.querySelector('#df-2c0ee8b2-7888-4465-8574-58063aec7d4f button.colab-df-convert');\n",
              "        buttonEl.style.display =\n",
              "          google.colab.kernel.accessAllowed ? 'block' : 'none';\n",
              "\n",
              "        async function convertToInteractive(key) {\n",
              "          const element = document.querySelector('#df-2c0ee8b2-7888-4465-8574-58063aec7d4f');\n",
              "          const dataTable =\n",
              "            await google.colab.kernel.invokeFunction('convertToInteractive',\n",
              "                                                     [key], {});\n",
              "          if (!dataTable) return;\n",
              "\n",
              "          const docLinkHtml = 'Like what you see? Visit the ' +\n",
              "            '<a target=\"_blank\" href=https://colab.research.google.com/notebooks/data_table.ipynb>data table notebook</a>'\n",
              "            + ' to learn more about interactive tables.';\n",
              "          element.innerHTML = '';\n",
              "          dataTable['output_type'] = 'display_data';\n",
              "          await google.colab.output.renderOutput(dataTable, element);\n",
              "          const docLink = document.createElement('div');\n",
              "          docLink.innerHTML = docLinkHtml;\n",
              "          element.appendChild(docLink);\n",
              "        }\n",
              "      </script>\n",
              "    </div>\n",
              "  </div>\n",
              "  "
            ]
          },
          "metadata": {},
          "execution_count": 26
        }
      ],
      "source": [
        "#Tabela do somatório da quantidade de pacientes atendidos por setor\n",
        "table2 = consumo_medicamentos.groupby(['Setor'])['Qtde_pacientes'].mean().reset_index()\n",
        "table2 = table2.sort_values('Qtde_pacientes', ascending=False)\n",
        "table2"
      ]
    },
    {
      "cell_type": "code",
      "execution_count": null,
      "metadata": {
        "colab": {
          "base_uri": "https://localhost:8080/",
          "height": 510
        },
        "id": "e_gAgudEo2qP",
        "outputId": "5f85d365-c8f5-4544-fb82-cea9197afb2c"
      },
      "outputs": [
        {
          "output_type": "execute_result",
          "data": {
            "text/plain": [
              "<matplotlib.axes._subplots.AxesSubplot at 0x7fe8e6e014f0>"
            ]
          },
          "metadata": {},
          "execution_count": 27
        },
        {
          "output_type": "display_data",
          "data": {
            "text/plain": [
              "<Figure size 720x360 with 1 Axes>"
            ],
            "image/png": "[encoded data removed]"
          },
          "metadata": {
            "needs_background": "light"
          }
        }
      ],
      "source": [
        "#Gráfico do somatório da quantidade de pacientes atendidos por setor\n",
        "plt.rcParams['figure.figsize'] = 10,5\n",
        "plt.xticks(rotation=90)\n",
        "plt.title('Quantidade de pacientes por setor')\n",
        "sns.barplot(data=table2, x='Setor', y='Qtde_pacientes')"
      ]
    },
    {
      "cell_type": "code",
      "execution_count": null,
      "metadata": {
        "colab": {
          "base_uri": "https://localhost:8080/",
          "height": 379
        },
        "id": "jvLdp-U508fT",
        "outputId": "3de29a4e-c89c-4ad0-dae4-f533187ca7cb"
      },
      "outputs": [
        {
          "output_type": "execute_result",
          "data": {
            "text/plain": [
              "<matplotlib.axes._subplots.AxesSubplot at 0x7fe8e67a50d0>"
            ]
          },
          "metadata": {},
          "execution_count": 28
        },
        {
          "output_type": "display_data",
          "data": {
            "text/plain": [
              "<Figure size 720x360 with 1 Axes>"
            ],
            "image/png": "[encoded data removed]"
          },
          "metadata": {
            "needs_background": "light"
          }
        }
      ],
      "source": [
        "#Gráfico da quantidade de medicamentos consumidos por mês\n",
        "grafico3 = consumo_medicamentos.groupby('Mes')['Qtde_consumida'].sum().reset_index()\n",
        "plt.rcParams['figure.figsize'] = 10,5\n",
        "plt.xticks(rotation=90)\n",
        "plt.title('Quantidade de medicamentos consumidos por mês')\n",
        "sns.barplot(data=grafico3, x='Mes', y='Qtde_consumida')"
      ]
    },
    {
      "cell_type": "code",
      "execution_count": null,
      "metadata": {
        "colab": {
          "base_uri": "https://localhost:8080/",
          "height": 376
        },
        "id": "M1elgkmACMhj",
        "outputId": "301ae9cb-26a1-4a79-d781-574764b73a21"
      },
      "outputs": [
        {
          "output_type": "execute_result",
          "data": {
            "text/plain": [
              "<matplotlib.axes._subplots.AxesSubplot at 0x7fe8e67db7f0>"
            ]
          },
          "metadata": {},
          "execution_count": 29
        },
        {
          "output_type": "display_data",
          "data": {
            "text/plain": [
              "<Figure size 720x360 with 1 Axes>"
            ],
            "image/png": "[encoded data removed]"
          },
          "metadata": {
            "needs_background": "light"
          }
        }
      ],
      "source": [
        "#Gráfico da quantidade de pacientes atendidos por mês\n",
        "grafico4 = pacientes.groupby('Mes')['Qtde_pacientes'].sum().reset_index()\n",
        "grafico4 = grafico4.sort_values('Qtde_pacientes', ascending=False)\n",
        "plt.rcParams['figure.figsize'] = 10,5\n",
        "plt.xticks(rotation=90)\n",
        "plt.title('Quantidade de pacientes atendidos por mês')\n",
        "sns.barplot(data=grafico4, x='Mes', y='Qtde_pacientes')"
      ]
    },
    {
      "cell_type": "code",
      "execution_count": null,
      "metadata": {
        "colab": {
          "base_uri": "https://localhost:8080/",
          "height": 510
        },
        "id": "m7HiesIc1DX6",
        "outputId": "fdb76cef-306a-44cc-f32a-c4d807711c2d"
      },
      "outputs": [
        {
          "output_type": "execute_result",
          "data": {
            "text/plain": [
              "<matplotlib.axes._subplots.AxesSubplot at 0x7fe8e66371c0>"
            ]
          },
          "metadata": {},
          "execution_count": 30
        },
        {
          "output_type": "display_data",
          "data": {
            "text/plain": [
              "<Figure size 720x360 with 1 Axes>"
            ],
            "image/png": "[encoded data removed]"
          },
          "metadata": {
            "needs_background": "light"
          }
        }
      ],
      "source": [
        "#Pacientes por setor no mês de Julho                                                   \n",
        "grafico4 = pacientes.loc[(pacientes['Mes'] == 'Jul')]\n",
        "grafico4 = grafico4.groupby('Setor')['Qtde_pacientes'].sum().reset_index()\n",
        "plt.rcParams['figure.figsize'] = 10,5\n",
        "plt.xticks(rotation=90)\n",
        "plt.title('Pacientes por setor no mês de Julho')\n",
        "sns.barplot(data=grafico4, x='Setor', y='Qtde_pacientes')"
      ]
    },
    {
      "cell_type": "code",
      "execution_count": null,
      "metadata": {
        "colab": {
          "base_uri": "https://localhost:8080/",
          "height": 833
        },
        "id": "beVr0MUc1Gx1",
        "outputId": "80e31851-0d9c-46da-fe29-fc3340ae740d"
      },
      "outputs": [
        {
          "output_type": "execute_result",
          "data": {
            "text/plain": [
              "                   Tipo_medicamento  Qtde_consumida\n",
              "0                       ANALGESICOS    1.736844e+06\n",
              "1                       ANESTESICOS    4.311070e+05\n",
              "2                   ANTIBACTERIANOS    1.020972e+06\n",
              "3                         ANTIDOTOS    1.690800e+04\n",
              "4                      ANTIFUNGICOS    1.581600e+04\n",
              "5                 ANTIINFLAMATORIOS    6.501480e+05\n",
              "6                  ANTIPARASITARIOS    7.155600e+04\n",
              "7                        ANTIVIRAIS    1.828800e+04\n",
              "8                            DIETAS    1.767120e+05\n",
              "9    IMUNOSSUPRESSORES E IMUNOTERAP    8.100000e+03\n",
              "10              KITS FARMACIA BLOCO    5.412000e+03\n",
              "11   MED PROCED. / DIAGNO. / TERAP.    8.424000e+03\n",
              "12     MED. DE USOEM PELE E MUCOSAS    1.069644e+05\n",
              "13              NUTRICAO PARENTERAL    5.880000e+02\n",
              "14                       OFTALMICOS    2.749980e+04\n",
              "15   SIST. NERVOSO CENTRAL E PERIFE    5.757000e+05\n",
              "16           SISTEMA CARDIOVASCULAR    1.217220e+06\n",
              "17                SISTEMA DIGESTIVO    1.318390e+06\n",
              "18   SISTEMA ENDOCRINO E REPRODUTOR    2.582520e+05\n",
              "19           SISTEMA GENITOURINARIO    7.704000e+03\n",
              "20             SISTEMA HEMATOLOGICO    2.792400e+04\n",
              "21             SISTEMA RESPIRATORIO    1.243560e+05\n",
              "22      SOLUCOES HIDROELETROLITICAS    6.396720e+06\n",
              "23           TERAPEUTICOS ESPECIAIS    1.422000e+04\n",
              "24   VITAMINAS E SUPLEMENTOS NUTRIC    3.594000e+04"
            ],
            "text/html": [
              "\n",
              "  <div id=\"df-81189899-46ce-443d-8e4c-c07f4c1adf16\">\n",
              "    <div class=\"colab-df-container\">\n",
              "      <div>\n",
              "<style scoped>\n",
              "    .dataframe tbody tr th:only-of-type {\n",
              "        vertical-align: middle;\n",
              "    }\n",
              "\n",
              "    .dataframe tbody tr th {\n",
              "        vertical-align: top;\n",
              "    }\n",
              "\n",
              "    .dataframe thead th {\n",
              "        text-align: right;\n",
              "    }\n",
              "</style>\n",
              "<table border=\"1\" class=\"dataframe\">\n",
              "  <thead>\n",
              "    <tr style=\"text-align: right;\">\n",
              "      <th></th>\n",
              "      <th>Tipo_medicamento</th>\n",
              "      <th>Qtde_consumida</th>\n",
              "    </tr>\n",
              "  </thead>\n",
              "  <tbody>\n",
              "    <tr>\n",
              "      <th>0</th>\n",
              "      <td>ANALGESICOS</td>\n",
              "      <td>1.736844e+06</td>\n",
              "    </tr>\n",
              "    <tr>\n",
              "      <th>1</th>\n",
              "      <td>ANESTESICOS</td>\n",
              "      <td>4.311070e+05</td>\n",
              "    </tr>\n",
              "    <tr>\n",
              "      <th>2</th>\n",
              "      <td>ANTIBACTERIANOS</td>\n",
              "      <td>1.020972e+06</td>\n",
              "    </tr>\n",
              "    <tr>\n",
              "      <th>3</th>\n",
              "      <td>ANTIDOTOS</td>\n",
              "      <td>1.690800e+04</td>\n",
              "    </tr>\n",
              "    <tr>\n",
              "      <th>4</th>\n",
              "      <td>ANTIFUNGICOS</td>\n",
              "      <td>1.581600e+04</td>\n",
              "    </tr>\n",
              "    <tr>\n",
              "      <th>5</th>\n",
              "      <td>ANTIINFLAMATORIOS</td>\n",
              "      <td>6.501480e+05</td>\n",
              "    </tr>\n",
              "    <tr>\n",
              "      <th>6</th>\n",
              "      <td>ANTIPARASITARIOS</td>\n",
              "      <td>7.155600e+04</td>\n",
              "    </tr>\n",
              "    <tr>\n",
              "      <th>7</th>\n",
              "      <td>ANTIVIRAIS</td>\n",
              "      <td>1.828800e+04</td>\n",
              "    </tr>\n",
              "    <tr>\n",
              "      <th>8</th>\n",
              "      <td>DIETAS</td>\n",
              "      <td>1.767120e+05</td>\n",
              "    </tr>\n",
              "    <tr>\n",
              "      <th>9</th>\n",
              "      <td>IMUNOSSUPRESSORES E IMUNOTERAP</td>\n",
              "      <td>8.100000e+03</td>\n",
              "    </tr>\n",
              "    <tr>\n",
              "      <th>10</th>\n",
              "      <td>KITS FARMACIA BLOCO</td>\n",
              "      <td>5.412000e+03</td>\n",
              "    </tr>\n",
              "    <tr>\n",
              "      <th>11</th>\n",
              "      <td>MED PROCED. / DIAGNO. / TERAP.</td>\n",
              "      <td>8.424000e+03</td>\n",
              "    </tr>\n",
              "    <tr>\n",
              "      <th>12</th>\n",
              "      <td>MED. DE USOEM PELE E MUCOSAS</td>\n",
              "      <td>1.069644e+05</td>\n",
              "    </tr>\n",
              "    <tr>\n",
              "      <th>13</th>\n",
              "      <td>NUTRICAO PARENTERAL</td>\n",
              "      <td>5.880000e+02</td>\n",
              "    </tr>\n",
              "    <tr>\n",
              "      <th>14</th>\n",
              "      <td>OFTALMICOS</td>\n",
              "      <td>2.749980e+04</td>\n",
              "    </tr>\n",
              "    <tr>\n",
              "      <th>15</th>\n",
              "      <td>SIST. NERVOSO CENTRAL E PERIFE</td>\n",
              "      <td>5.757000e+05</td>\n",
              "    </tr>\n",
              "    <tr>\n",
              "      <th>16</th>\n",
              "      <td>SISTEMA CARDIOVASCULAR</td>\n",
              "      <td>1.217220e+06</td>\n",
              "    </tr>\n",
              "    <tr>\n",
              "      <th>17</th>\n",
              "      <td>SISTEMA DIGESTIVO</td>\n",
              "      <td>1.318390e+06</td>\n",
              "    </tr>\n",
              "    <tr>\n",
              "      <th>18</th>\n",
              "      <td>SISTEMA ENDOCRINO E REPRODUTOR</td>\n",
              "      <td>2.582520e+05</td>\n",
              "    </tr>\n",
              "    <tr>\n",
              "      <th>19</th>\n",
              "      <td>SISTEMA GENITOURINARIO</td>\n",
              "      <td>7.704000e+03</td>\n",
              "    </tr>\n",
              "    <tr>\n",
              "      <th>20</th>\n",
              "      <td>SISTEMA HEMATOLOGICO</td>\n",
              "      <td>2.792400e+04</td>\n",
              "    </tr>\n",
              "    <tr>\n",
              "      <th>21</th>\n",
              "      <td>SISTEMA RESPIRATORIO</td>\n",
              "      <td>1.243560e+05</td>\n",
              "    </tr>\n",
              "    <tr>\n",
              "      <th>22</th>\n",
              "      <td>SOLUCOES HIDROELETROLITICAS</td>\n",
              "      <td>6.396720e+06</td>\n",
              "    </tr>\n",
              "    <tr>\n",
              "      <th>23</th>\n",
              "      <td>TERAPEUTICOS ESPECIAIS</td>\n",
              "      <td>1.422000e+04</td>\n",
              "    </tr>\n",
              "    <tr>\n",
              "      <th>24</th>\n",
              "      <td>VITAMINAS E SUPLEMENTOS NUTRIC</td>\n",
              "      <td>3.594000e+04</td>\n",
              "    </tr>\n",
              "  </tbody>\n",
              "</table>\n",
              "</div>\n",
              "      <button class=\"colab-df-convert\" onclick=\"convertToInteractive('df-81189899-46ce-443d-8e4c-c07f4c1adf16')\"\n",
              "              title=\"Convert this dataframe to an interactive table.\"\n",
              "              style=\"display:none;\">\n",
              "        \n",
              "  <svg xmlns=\"http://www.w3.org/2000/svg\" height=\"24px\"viewBox=\"0 0 24 24\"\n",
              "       width=\"24px\">\n",
              "    <path d=\"M0 0h24v24H0V0z\" fill=\"none\"/>\n",
              "    <path d=\"M18.56 5.44l.94 2.06.94-2.06 2.06-.94-2.06-.94-.94-2.06-.94 2.06-2.06.94zm-11 1L8.5 8.5l.94-2.06 2.06-.94-2.06-.94L8.5 2.5l-.94 2.06-2.06.94zm10 10l.94 2.06.94-2.06 2.06-.94-2.06-.94-.94-2.06-.94 2.06-2.06.94z\"/><path d=\"M17.41 7.96l-1.37-1.37c-.4-.4-.92-.59-1.43-.59-.52 0-1.04.2-1.43.59L10.3 9.45l-7.72 7.72c-.78.78-.78 2.05 0 2.83L4 21.41c.39.39.9.59 1.41.59.51 0 1.02-.2 1.41-.59l7.78-7.78 2.81-2.81c.8-.78.8-2.07 0-2.86zM5.41 20L4 18.59l7.72-7.72 1.47 1.35L5.41 20z\"/>\n",
              "  </svg>\n",
              "      </button>\n",
              "      \n",
              "  <style>\n",
              "    .colab-df-container {\n",
              "      display:flex;\n",
              "      flex-wrap:wrap;\n",
              "      gap: 12px;\n",
              "    }\n",
              "\n",
              "    .colab-df-convert {\n",
              "      background-color: #E8F0FE;\n",
              "      border: none;\n",
              "      border-radius: 50%;\n",
              "      cursor: pointer;\n",
              "      display: none;\n",
              "      fill: #1967D2;\n",
              "      height: 32px;\n",
              "      padding: 0 0 0 0;\n",
              "      width: 32px;\n",
              "    }\n",
              "\n",
              "    .colab-df-convert:hover {\n",
              "      background-color: #E2EBFA;\n",
              "      box-shadow: 0px 1px 2px rgba(60, 64, 67, 0.3), 0px 1px 3px 1px rgba(60, 64, 67, 0.15);\n",
              "      fill: #174EA6;\n",
              "    }\n",
              "\n",
              "    [theme=dark] .colab-df-convert {\n",
              "      background-color: #3B4455;\n",
              "      fill: #D2E3FC;\n",
              "    }\n",
              "\n",
              "    [theme=dark] .colab-df-convert:hover {\n",
              "      background-color: #434B5C;\n",
              "      box-shadow: 0px 1px 3px 1px rgba(0, 0, 0, 0.15);\n",
              "      filter: drop-shadow(0px 1px 2px rgba(0, 0, 0, 0.3));\n",
              "      fill: #FFFFFF;\n",
              "    }\n",
              "  </style>\n",
              "\n",
              "      <script>\n",
              "        const buttonEl =\n",
              "          document.querySelector('#df-81189899-46ce-443d-8e4c-c07f4c1adf16 button.colab-df-convert');\n",
              "        buttonEl.style.display =\n",
              "          google.colab.kernel.accessAllowed ? 'block' : 'none';\n",
              "\n",
              "        async function convertToInteractive(key) {\n",
              "          const element = document.querySelector('#df-81189899-46ce-443d-8e4c-c07f4c1adf16');\n",
              "          const dataTable =\n",
              "            await google.colab.kernel.invokeFunction('convertToInteractive',\n",
              "                                                     [key], {});\n",
              "          if (!dataTable) return;\n",
              "\n",
              "          const docLinkHtml = 'Like what you see? Visit the ' +\n",
              "            '<a target=\"_blank\" href=https://colab.research.google.com/notebooks/data_table.ipynb>data table notebook</a>'\n",
              "            + ' to learn more about interactive tables.';\n",
              "          element.innerHTML = '';\n",
              "          dataTable['output_type'] = 'display_data';\n",
              "          await google.colab.output.renderOutput(dataTable, element);\n",
              "          const docLink = document.createElement('div');\n",
              "          docLink.innerHTML = docLinkHtml;\n",
              "          element.appendChild(docLink);\n",
              "        }\n",
              "      </script>\n",
              "    </div>\n",
              "  </div>\n",
              "  "
            ]
          },
          "metadata": {},
          "execution_count": 31
        }
      ],
      "source": [
        "#Tabela quantidade de medicamentos consumidos \n",
        "table_med= consumo_medicamentos.groupby('Tipo_medicamento')['Qtde_consumida'].sum().reset_index()\n",
        "table_med"
      ]
    },
    {
      "cell_type": "code",
      "execution_count": null,
      "metadata": {
        "colab": {
          "base_uri": "https://localhost:8080/",
          "height": 552
        },
        "id": "8ibCtDzw2g7i",
        "outputId": "01c4649a-0e8d-4936-b3be-26f4b9a765b4"
      },
      "outputs": [
        {
          "output_type": "execute_result",
          "data": {
            "text/plain": [
              "<matplotlib.axes._subplots.AxesSubplot at 0x7fe8e65c8190>"
            ]
          },
          "metadata": {},
          "execution_count": 32
        },
        {
          "output_type": "display_data",
          "data": {
            "text/plain": [
              "<Figure size 720x360 with 1 Axes>"
            ],
            "image/png": "[encoded data removed]"
          },
          "metadata": {
            "needs_background": "light"
          }
        }
      ],
      "source": [
        "#Gráfico quantidade de medicamentos consumidos por tipo de medicamento\n",
        "grafico_med = table_med.sort_values('Qtde_consumida', ascending = False)\n",
        "plt.rcParams['figure.figsize'] = 10,5\n",
        "plt.xticks(rotation=90)\n",
        "plt.title('Quantidade de medicamentos consumidos por tipo de medicamento')\n",
        "sns.barplot(data=grafico_med, x='Tipo_medicamento', y='Qtde_consumida')"
      ]
    },
    {
      "cell_type": "code",
      "execution_count": null,
      "metadata": {
        "colab": {
          "base_uri": "https://localhost:8080/",
          "height": 550
        },
        "id": "R1uUPtqd-ejx",
        "outputId": "e933abe9-8b70-496f-9040-59ff5e125126"
      },
      "outputs": [
        {
          "output_type": "execute_result",
          "data": {
            "text/plain": [
              "<matplotlib.axes._subplots.AxesSubplot at 0x7fe8e65853a0>"
            ]
          },
          "metadata": {},
          "execution_count": 33
        },
        {
          "output_type": "display_data",
          "data": {
            "text/plain": [
              "<Figure size 720x360 with 1 Axes>"
            ],
            "image/png": "[encoded data removed]"
          },
          "metadata": {
            "needs_background": "light"
          }
        }
      ],
      "source": [
        "#Gráfico top 10 medicamentos de maior consumo\n",
        "grafico_med = table_med.sort_values('Qtde_consumida', ascending = False).head(10)\n",
        "plt.rcParams['figure.figsize'] = 10,5\n",
        "plt.xticks(rotation=90)\n",
        "plt.title('Top 10 medicamentos de maior consumo')\n",
        "sns.barplot(data=grafico_med, x='Tipo_medicamento', y='Qtde_consumida')"
      ]
    },
    {
      "cell_type": "code",
      "execution_count": null,
      "metadata": {
        "colab": {
          "base_uri": "https://localhost:8080/",
          "height": 526
        },
        "id": "KikD5BGt_ldj",
        "outputId": "c6a53935-1332-4f4c-f343-739538f6172d"
      },
      "outputs": [
        {
          "output_type": "execute_result",
          "data": {
            "text/plain": [
              "<matplotlib.axes._subplots.AxesSubplot at 0x7fe8e6446e50>"
            ]
          },
          "metadata": {},
          "execution_count": 34
        },
        {
          "output_type": "display_data",
          "data": {
            "text/plain": [
              "<Figure size 720x360 with 1 Axes>"
            ],
            "image/png": "[encoded data removed]"
          },
          "metadata": {
            "needs_background": "light"
          }
        }
      ],
      "source": [
        "#Gráfico top 5 medicamentos de maior consumo\n",
        "grafico_med = table_med.sort_values('Qtde_consumida', ascending = False).head(5)\n",
        "plt.rcParams['figure.figsize'] = 10,5\n",
        "plt.xticks(rotation=90)\n",
        "plt.title('Top 5 medicamentos de maior consumo')\n",
        "sns.barplot(data=grafico_med, x='Tipo_medicamento', y='Qtde_consumida')"
      ]
    },
    {
      "cell_type": "code",
      "execution_count": null,
      "metadata": {
        "colab": {
          "base_uri": "https://localhost:8080/",
          "height": 379
        },
        "id": "Sy9cBfnC_ypE",
        "outputId": "a0a7c8e2-e60a-4662-ee5a-ba77300af764"
      },
      "outputs": [
        {
          "output_type": "execute_result",
          "data": {
            "text/plain": [
              "<matplotlib.axes._subplots.AxesSubplot at 0x7fe8e63e6100>"
            ]
          },
          "metadata": {},
          "execution_count": 35
        },
        {
          "output_type": "display_data",
          "data": {
            "text/plain": [
              "<Figure size 720x360 with 1 Axes>"
            ],
            "image/png": "[encoded data removed]"
          },
          "metadata": {
            "needs_background": "light"
          }
        }
      ],
      "source": [
        "#Gráfico consumo de soluções hidroeletrolíticas por mês\n",
        "hidro_1 = consumo_medicamentos.loc[(consumo_medicamentos['Tipo_medicamento'] == ' SOLUCOES HIDROELETROLITICAS')]\n",
        "hidro = hidro_1.groupby('Mes')['Qtde_consumida'].sum().reset_index()\n",
        "grafico_hidro = hidro.sort_values('Qtde_consumida', ascending = False)\n",
        "plt.rcParams['figure.figsize'] = 10,5\n",
        "plt.xticks(rotation=90)\n",
        "plt.title('Consumo de soluções hidroeletrolíticas por mês')\n",
        "sns.barplot(data=grafico_hidro, x='Mes', y='Qtde_consumida')"
      ]
    },
    {
      "cell_type": "code",
      "execution_count": null,
      "metadata": {
        "colab": {
          "base_uri": "https://localhost:8080/",
          "height": 504
        },
        "id": "Ph22spsA_yc8",
        "outputId": "5b2fbcf7-539c-47cd-8554-a1ba5ab3b080"
      },
      "outputs": [
        {
          "output_type": "execute_result",
          "data": {
            "text/plain": [
              "<matplotlib.axes._subplots.AxesSubplot at 0x7fe8e6398c40>"
            ]
          },
          "metadata": {},
          "execution_count": 36
        },
        {
          "output_type": "display_data",
          "data": {
            "text/plain": [
              "<Figure size 720x360 with 1 Axes>"
            ],
            "image/png": "[encoded data removed]"
          },
          "metadata": {
            "needs_background": "light"
          }
        }
      ],
      "source": [
        "#Gráfico consumo de soluções hidroeletrolíticas por setor\n",
        "hidro_2 = consumo_medicamentos.loc[(consumo_medicamentos['Tipo_medicamento'] == ' SOLUCOES HIDROELETROLITICAS')]\n",
        "hidro = hidro_2.groupby('Setor')['Qtde_consumida'].sum().reset_index()\n",
        "grafico_hidro = hidro.sort_values('Qtde_consumida', ascending = False).head(10)\n",
        "plt.rcParams['figure.figsize'] = 10,5\n",
        "plt.xticks(rotation=90)\n",
        "plt.title('Consumo de soluções hidroeletrolíticas por setor')\n",
        "sns.barplot(data=grafico_hidro, x='Setor', y='Qtde_consumida')"
      ]
    },
    {
      "cell_type": "code",
      "execution_count": null,
      "metadata": {
        "colab": {
          "base_uri": "https://localhost:8080/",
          "height": 379
        },
        "id": "i4u5z50-3AE4",
        "outputId": "92efcdac-e332-4b55-e54a-e3232d565bd8"
      },
      "outputs": [
        {
          "output_type": "execute_result",
          "data": {
            "text/plain": [
              "<matplotlib.axes._subplots.AxesSubplot at 0x7fe8e62cd370>"
            ]
          },
          "metadata": {},
          "execution_count": 37
        },
        {
          "output_type": "display_data",
          "data": {
            "text/plain": [
              "<Figure size 720x360 with 1 Axes>"
            ],
            "image/png": "[encoded data removed]"
          },
          "metadata": {
            "needs_background": "light"
          }
        }
      ],
      "source": [
        "#Gráfico consumo de analgésicos por mês\n",
        "analgesicos_1 = consumo_medicamentos.loc[(consumo_medicamentos['Tipo_medicamento'] == ' ANALGESICOS')]\n",
        "analgesicos = analgesicos_1.groupby('Mes')['Qtde_consumida'].sum().reset_index()\n",
        "grafico_analgesicos = analgesicos.sort_values('Qtde_consumida', ascending = False)\n",
        "plt.rcParams['figure.figsize'] = 10,5\n",
        "plt.xticks(rotation=90)\n",
        "plt.title('Consumo de analgésicos por mês')\n",
        "sns.barplot(data=grafico_analgesicos, x='Mes', y='Qtde_consumida')"
      ]
    },
    {
      "cell_type": "code",
      "execution_count": null,
      "metadata": {
        "colab": {
          "base_uri": "https://localhost:8080/",
          "height": 504
        },
        "id": "ZHAqKJhq4H5c",
        "outputId": "c72bc945-8c38-4245-932e-2e9b7fd24330"
      },
      "outputs": [
        {
          "output_type": "execute_result",
          "data": {
            "text/plain": [
              "<matplotlib.axes._subplots.AxesSubplot at 0x7fe8e629b1f0>"
            ]
          },
          "metadata": {},
          "execution_count": 38
        },
        {
          "output_type": "display_data",
          "data": {
            "text/plain": [
              "<Figure size 720x360 with 1 Axes>"
            ],
            "image/png": "[encoded data removed]"
          },
          "metadata": {
            "needs_background": "light"
          }
        }
      ],
      "source": [
        "#Gráfico consumo de analgésicos por setor\n",
        "analgesicos_2 = consumo_medicamentos.loc[(consumo_medicamentos['Tipo_medicamento'] == ' ANALGESICOS')]\n",
        "analgesicos = analgesicos_2.groupby('Setor')['Qtde_consumida'].sum().reset_index()\n",
        "grafico_analgesicos = analgesicos.sort_values('Qtde_consumida', ascending = False).head(10)\n",
        "plt.rcParams['figure.figsize'] = 10,5\n",
        "plt.xticks(rotation=90)\n",
        "plt.title('Consumo de analgésicos por setor')\n",
        "sns.barplot(data=grafico_analgesicos, x='Setor', y='Qtde_consumida')"
      ]
    },
    {
      "cell_type": "code",
      "execution_count": null,
      "metadata": {
        "colab": {
          "base_uri": "https://localhost:8080/",
          "height": 379
        },
        "id": "V5iHj9jn322s",
        "outputId": "50135b0c-e99e-45a6-86a2-e10893b9791d"
      },
      "outputs": [
        {
          "output_type": "execute_result",
          "data": {
            "text/plain": [
              "<matplotlib.axes._subplots.AxesSubplot at 0x7fe8e6149c70>"
            ]
          },
          "metadata": {},
          "execution_count": 39
        },
        {
          "output_type": "display_data",
          "data": {
            "text/plain": [
              "<Figure size 720x360 with 1 Axes>"
            ],
            "image/png": "[encoded data removed]"
          },
          "metadata": {
            "needs_background": "light"
          }
        }
      ],
      "source": [
        "#Gráfico consumo de medicamentos para o sistema digestivo por mês\n",
        "digestivo_1 = consumo_medicamentos.loc[(consumo_medicamentos['Tipo_medicamento'] == ' SISTEMA DIGESTIVO')]\n",
        "digestivo = digestivo_1.groupby('Mes')['Qtde_consumida'].sum().reset_index()\n",
        "grafico_digestivo = digestivo.sort_values('Qtde_consumida', ascending = False)\n",
        "plt.rcParams['figure.figsize'] = 10,5\n",
        "plt.xticks(rotation=90)\n",
        "plt.title('Consumo de medicamentos para o sistema digestivo por mês')\n",
        "sns.barplot(data=grafico_digestivo, x='Mes', y='Qtde_consumida')"
      ]
    },
    {
      "cell_type": "code",
      "execution_count": null,
      "metadata": {
        "colab": {
          "base_uri": "https://localhost:8080/",
          "height": 504
        },
        "id": "lHcyHrR_4YnK",
        "outputId": "1d333cd9-93bf-4aca-b7df-1bf7dcd3dad2"
      },
      "outputs": [
        {
          "output_type": "execute_result",
          "data": {
            "text/plain": [
              "<matplotlib.axes._subplots.AxesSubplot at 0x7fe8e617d460>"
            ]
          },
          "metadata": {},
          "execution_count": 40
        },
        {
          "output_type": "display_data",
          "data": {
            "text/plain": [
              "<Figure size 720x360 with 1 Axes>"
            ],
            "image/png": "[encoded data removed]"
          },
          "metadata": {
            "needs_background": "light"
          }
        }
      ],
      "source": [
        "#Gráfico consumo de medicamentos para o sistema digestivo por setor\n",
        "digestivo_2 = consumo_medicamentos.loc[(consumo_medicamentos['Tipo_medicamento'] == ' SISTEMA DIGESTIVO')]\n",
        "digestivo = digestivo_2.groupby('Setor')['Qtde_consumida'].sum().reset_index()\n",
        "grafico_digestivo = digestivo.sort_values('Qtde_consumida', ascending = False).head(10)\n",
        "plt.rcParams['figure.figsize'] = 10,5\n",
        "plt.xticks(rotation=90)\n",
        "plt.title('Consumo de medicamentos para o sistema digestivo por setor')\n",
        "sns.barplot(data=grafico_digestivo, x='Setor', y='Qtde_consumida')"
      ]
    },
    {
      "cell_type": "code",
      "execution_count": null,
      "metadata": {
        "colab": {
          "base_uri": "https://localhost:8080/",
          "height": 379
        },
        "id": "0ivq65-Z4dF2",
        "outputId": "c57237a6-eefa-49d5-cf4a-58d422e32038"
      },
      "outputs": [
        {
          "output_type": "execute_result",
          "data": {
            "text/plain": [
              "<matplotlib.axes._subplots.AxesSubplot at 0x7fe8e6228130>"
            ]
          },
          "metadata": {},
          "execution_count": 41
        },
        {
          "output_type": "display_data",
          "data": {
            "text/plain": [
              "<Figure size 720x360 with 1 Axes>"
            ],
            "image/png": "[encoded data removed]"
          },
          "metadata": {
            "needs_background": "light"
          }
        }
      ],
      "source": [
        "#Gráfico consumo de medicamentos referentes ao sistema cardiovascular por mês\n",
        "cardio_1 = consumo_medicamentos.loc[(consumo_medicamentos['Tipo_medicamento'] == ' SISTEMA CARDIOVASCULAR')]\n",
        "cardio = cardio_1.groupby('Mes')['Qtde_consumida'].sum().reset_index()\n",
        "grafico_cardio = cardio.sort_values('Qtde_consumida', ascending = False)\n",
        "plt.rcParams['figure.figsize'] = 10,5\n",
        "plt.xticks(rotation=90)\n",
        "plt.title('Consumo de medicamentos referentes ao sistema cardiovascular por mês')\n",
        "sns.barplot(data=grafico_cardio, x='Mes', y='Qtde_consumida')"
      ]
    },
    {
      "cell_type": "code",
      "execution_count": null,
      "metadata": {
        "colab": {
          "base_uri": "https://localhost:8080/",
          "height": 510
        },
        "id": "t36QZFGP5g3n",
        "outputId": "3dd07ad5-c2f0-47a1-9b08-75dd8eda4bdb"
      },
      "outputs": [
        {
          "output_type": "execute_result",
          "data": {
            "text/plain": [
              "<matplotlib.axes._subplots.AxesSubplot at 0x7fe8e5ff4760>"
            ]
          },
          "metadata": {},
          "execution_count": 42
        },
        {
          "output_type": "display_data",
          "data": {
            "text/plain": [
              "<Figure size 720x360 with 1 Axes>"
            ],
            "image/png": "[encoded data removed]"
          },
          "metadata": {
            "needs_background": "light"
          }
        }
      ],
      "source": [
        "#Gráfico consumo de medicamentos referentes ao sistema cardiovascular por setor\n",
        "cardio_2 = consumo_medicamentos.loc[(consumo_medicamentos['Tipo_medicamento'] == ' SISTEMA CARDIOVASCULAR')]\n",
        "cardio = cardio_2.groupby('Setor')['Qtde_consumida'].sum().reset_index()\n",
        "grafico_cardio = cardio.sort_values('Qtde_consumida', ascending = False).head(10)\n",
        "plt.rcParams['figure.figsize'] = 10,5\n",
        "plt.xticks(rotation=90)\n",
        "plt.title('Consumo de medicamentos referentes ao sistema cardiovascular por setor')\n",
        "sns.barplot(data=grafico_cardio, x='Setor', y='Qtde_consumida')"
      ]
    },
    {
      "cell_type": "code",
      "execution_count": null,
      "metadata": {
        "colab": {
          "base_uri": "https://localhost:8080/",
          "height": 379
        },
        "id": "u7alf-Mi4QA0",
        "outputId": "8fba6a85-159d-42b3-aeaa-75d517099a04"
      },
      "outputs": [
        {
          "output_type": "execute_result",
          "data": {
            "text/plain": [
              "<matplotlib.axes._subplots.AxesSubplot at 0x7fe8e5f3eb20>"
            ]
          },
          "metadata": {},
          "execution_count": 43
        },
        {
          "output_type": "display_data",
          "data": {
            "text/plain": [
              "<Figure size 720x360 with 1 Axes>"
            ],
            "image/png": "[encoded data removed]"
          },
          "metadata": {
            "needs_background": "light"
          }
        }
      ],
      "source": [
        "#Gráfico consumo de anti bacterianos por mês\n",
        "antibacterianos_1 = consumo_medicamentos.loc[(consumo_medicamentos['Tipo_medicamento'] == ' ANTIBACTERIANOS')]\n",
        "antibacterianos = antibacterianos_1.groupby('Mes')['Qtde_consumida'].sum().reset_index()\n",
        "grafico_antibacterianos = antibacterianos.sort_values('Qtde_consumida', ascending = False)\n",
        "plt.rcParams['figure.figsize'] = 10,5\n",
        "plt.xticks(rotation=90)\n",
        "plt.title('Consumo de Anti-bacterianos por Mês')\n",
        "sns.barplot(data=grafico_antibacterianos, x='Mes', y='Qtde_consumida')"
      ]
    },
    {
      "cell_type": "code",
      "execution_count": null,
      "metadata": {
        "colab": {
          "base_uri": "https://localhost:8080/",
          "height": 504
        },
        "id": "Smy-A4V-3GC7",
        "outputId": "eaf8f7e5-0171-4616-e7bf-8c1beabf413f"
      },
      "outputs": [
        {
          "output_type": "execute_result",
          "data": {
            "text/plain": [
              "<matplotlib.axes._subplots.AxesSubplot at 0x7fe8e5fb3a30>"
            ]
          },
          "metadata": {},
          "execution_count": 44
        },
        {
          "output_type": "display_data",
          "data": {
            "text/plain": [
              "<Figure size 720x360 with 1 Axes>"
            ],
            "image/png": "[encoded data removed]"
          },
          "metadata": {
            "needs_background": "light"
          }
        }
      ],
      "source": [
        "#Gráfico consumo de anti bacterianos por setor\n",
        "antibacterianos_2 = consumo_medicamentos.loc[(consumo_medicamentos['Tipo_medicamento'] == ' ANTIBACTERIANOS')]\n",
        "antibacterianos = antibacterianos_2.groupby('Setor')['Qtde_consumida'].sum().reset_index()\n",
        "grafico_antibacterianos = antibacterianos.sort_values('Qtde_consumida', ascending = False).head(10)\n",
        "plt.rcParams['figure.figsize'] = 10,5\n",
        "plt.xticks(rotation=90)\n",
        "plt.title('Consumo de Anti-bacterianos por setor')\n",
        "sns.barplot(data=grafico_antibacterianos, x='Setor', y='Qtde_consumida')"
      ]
    },
    {
      "cell_type": "code",
      "source": [
        "#Gráfico consumo de anti bacterianos por setor\n",
        "antibacterianos_2 = consumo_medicamentos.loc[(consumo_medicamentos['Tipo_medicamento'] == ' ANTIBACTERIANOS')]\n",
        "antibacterianos = antibacterianos_2.groupby('Setor')['Qtde_consumida'].sum().reset_index()\n",
        "grafico_antibacterianos = antibacterianos.sort_values('Qtde_consumida', ascending = False).head(10)\n",
        "plt.rcParams['figure.figsize'] = 10,5\n",
        "plt.xticks(rotation=90)\n",
        "plt.title('Consumo de Anti-bacterianos por setor')\n",
        "sns.barplot(data=grafico_antibacterianos, x='Setor', y='Qtde_consumida')"
      ],
      "metadata": {
        "colab": {
          "base_uri": "https://localhost:8080/",
          "height": 504
        },
        "id": "OQ30QBeZhDXi",
        "outputId": "a2259b62-3329-4bf5-ceb8-9fec78e3413b"
      },
      "execution_count": null,
      "outputs": [
        {
          "output_type": "execute_result",
          "data": {
            "text/plain": [
              "<matplotlib.axes._subplots.AxesSubplot at 0x7fe8e5dc95e0>"
            ]
          },
          "metadata": {},
          "execution_count": 45
        },
        {
          "output_type": "display_data",
          "data": {
            "text/plain": [
              "<Figure size 720x360 with 1 Axes>"
            ],
            "image/png": "[encoded data removed]"
          },
          "metadata": {
            "needs_background": "light"
          }
        }
      ]
    },
    {
      "cell_type": "markdown",
      "metadata": {
        "id": "e8Snt2FR9tWx"
      },
      "source": [
        "#Preparação de dados"
      ]
    },
    {
      "cell_type": "markdown",
      "metadata": {
        "id": "nGoiY4nDAbqd"
      },
      "source": [
        "##Divisão entre previsores e classe"
      ]
    },
    {
      "cell_type": "code",
      "execution_count": null,
      "metadata": {
        "id": "DUo3DcXwL9kx"
      },
      "outputs": [],
      "source": [
        "consumo_medicamentos.columns"
      ]
    },
    {
      "cell_type": "code",
      "execution_count": null,
      "metadata": {
        "id": "Hjc16SWU-tcR"
      },
      "outputs": [],
      "source": [
        "x_consumo = consumo_medicamentos.iloc[:, 0:5].values\n",
        "x_consumo[0]"
      ]
    },
    {
      "cell_type": "code",
      "execution_count": null,
      "metadata": {
        "id": "V3pP6m0gABWX"
      },
      "outputs": [],
      "source": [
        "y_consumo = consumo_medicamentos.iloc[:,5].values\n",
        "y_consumo[0]"
      ]
    },
    {
      "cell_type": "markdown",
      "metadata": {
        "id": "S5Q-FPTaAY-a"
      },
      "source": [
        "##Tratamento de atributos categóricos"
      ]
    },
    {
      "cell_type": "code",
      "execution_count": null,
      "metadata": {
        "id": "6Ji_ujZpDtfi"
      },
      "outputs": [],
      "source": [
        "from sklearn.preprocessing import LabelEncoder\n",
        "from sklearn.compose import ColumnTransformer"
      ]
    },
    {
      "cell_type": "code",
      "execution_count": null,
      "metadata": {
        "id": "fNrXcY-sI4xY"
      },
      "outputs": [],
      "source": [
        "label_encoder_Mes = LabelEncoder()\n",
        "label_encoder_Setor = LabelEncoder()\n",
        "label_encoder_Tipo_medicamento = LabelEncoder()"
      ]
    },
    {
      "cell_type": "code",
      "execution_count": null,
      "metadata": {
        "id": "TOSUuxH6JAyX"
      },
      "outputs": [],
      "source": [
        "x_consumo[:,0] = label_encoder_Mes.fit_transform(x_consumo[:,0])\n",
        "x_consumo[:,1] = label_encoder_Setor.fit_transform(x_consumo[:,1])\n",
        "x_consumo[:,2] = label_encoder_Tipo_medicamento.fit_transform(x_consumo[:,2])"
      ]
    },
    {
      "cell_type": "markdown",
      "metadata": {
        "id": "sdI414zYNsCt"
      },
      "source": [
        "##Escalonamento dos valores"
      ]
    },
    {
      "cell_type": "code",
      "source": [
        "x_consumo"
      ],
      "metadata": {
        "id": "JnSiOkk4yHDR"
      },
      "execution_count": null,
      "outputs": []
    },
    {
      "cell_type": "code",
      "execution_count": null,
      "metadata": {
        "id": "ftWjdLp7GyF1"
      },
      "outputs": [],
      "source": [
        "from sklearn.preprocessing import StandardScaler"
      ]
    },
    {
      "cell_type": "code",
      "execution_count": null,
      "metadata": {
        "id": "dB7cI1sNEVIh"
      },
      "outputs": [],
      "source": [
        "scaler_x_consumo = StandardScaler(with_mean=False) \n",
        "x_consumo = scaler_x_consumo.fit_transform(x_consumo)"
      ]
    },
    {
      "cell_type": "code",
      "execution_count": null,
      "metadata": {
        "id": "A4UTYqbNWf5J"
      },
      "outputs": [],
      "source": [
        "x_consumo"
      ]
    },
    {
      "cell_type": "markdown",
      "metadata": {
        "id": "vAU00aGTJ0o6"
      },
      "source": [
        "##Divisão das bases em treinamento e testes"
      ]
    },
    {
      "cell_type": "code",
      "execution_count": null,
      "metadata": {
        "id": "7bnU3qNzJ3S8"
      },
      "outputs": [],
      "source": [
        "from sklearn.model_selection import train_test_split"
      ]
    },
    {
      "cell_type": "code",
      "execution_count": null,
      "metadata": {
        "id": "r3YkaT2xJ6H_"
      },
      "outputs": [],
      "source": [
        "x_consumo_treinamento, x_consumo_teste, y_consumo_treinamento, y_consumo_teste = train_test_split(x_consumo, y_consumo, test_size = 0.25, random_state = 0)"
      ]
    },
    {
      "cell_type": "markdown",
      "metadata": {
        "id": "jCRtjXsLCkj-"
      },
      "source": [
        "#Naive Bayes\n"
      ]
    },
    {
      "cell_type": "code",
      "execution_count": null,
      "metadata": {
        "id": "0bkbzCKbft0D"
      },
      "outputs": [],
      "source": [
        "from sklearn.naive_bayes import GaussianNB"
      ]
    },
    {
      "cell_type": "code",
      "execution_count": null,
      "metadata": {
        "id": "0yYj1Pgefm5w"
      },
      "outputs": [],
      "source": [
        "naive_consumo = GaussianNB()\n",
        "naive_consumo.fit(x_consumo_treinamento, y_consumo_treinamento)\n",
        "previsoes_naive = naive_consumo.predict(x_consumo_teste)\n",
        "previsoes_naive"
      ]
    },
    {
      "cell_type": "code",
      "execution_count": null,
      "metadata": {
        "id": "h5jDZd03XP8_"
      },
      "outputs": [],
      "source": [
        "from sklearn.metrics import accuracy_score, classification_report"
      ]
    },
    {
      "cell_type": "code",
      "execution_count": null,
      "metadata": {
        "colab": {
          "base_uri": "https://localhost:8080/"
        },
        "id": "HugDQ4Pafm27",
        "outputId": "ee12ef99-ddb3-42cb-9559-71c8bd9b8d61"
      },
      "outputs": [
        {
          "output_type": "execute_result",
          "data": {
            "text/plain": [
              "0.9788238295700983"
            ]
          },
          "metadata": {},
          "execution_count": 61
        }
      ],
      "source": [
        "accuracy_score(y_consumo_teste, previsoes_naive)"
      ]
    },
    {
      "cell_type": "code",
      "execution_count": null,
      "metadata": {
        "colab": {
          "base_uri": "https://localhost:8080/",
          "height": 408
        },
        "id": "o-54HL04_aLM",
        "outputId": "d30de760-1421-487b-8103-cdb9f121ac20"
      },
      "outputs": [
        {
          "output_type": "execute_result",
          "data": {
            "text/plain": [
              "0.9788238295700983"
            ]
          },
          "metadata": {},
          "execution_count": 62
        },
        {
          "output_type": "display_data",
          "data": {
            "text/plain": [
              "<Figure size 576x396 with 1 Axes>"
            ],
            "image/png": "[encoded data removed]"
          },
          "metadata": {}
        }
      ],
      "source": [
        "from yellowbrick.classifier import ConfusionMatrix\n",
        "cm = ConfusionMatrix(naive_consumo)\n",
        "cm.fit(x_consumo_treinamento, y_consumo_treinamento)\n",
        "cm.score(x_consumo_teste, y_consumo_teste)"
      ]
    },
    {
      "cell_type": "code",
      "execution_count": null,
      "metadata": {
        "colab": {
          "base_uri": "https://localhost:8080/"
        },
        "id": "bFtYZhsN_uXn",
        "outputId": "413f15ff-8160-4874-c739-5e09a0bc5a65"
      },
      "outputs": [
        {
          "output_type": "stream",
          "name": "stdout",
          "text": [
            "              precision    recall  f1-score   support\n",
            "\n",
            "        Alto       0.97      0.97      0.97       312\n",
            "       Baixo       1.00      0.98      0.99      6235\n",
            "    Moderado       0.89      0.99      0.94      1292\n",
            "\n",
            "    accuracy                           0.98      7839\n",
            "   macro avg       0.95      0.98      0.97      7839\n",
            "weighted avg       0.98      0.98      0.98      7839\n",
            "\n"
          ]
        }
      ],
      "source": [
        "print(classification_report(y_consumo_teste, previsoes_naive))"
      ]
    },
    {
      "cell_type": "markdown",
      "metadata": {
        "id": "IHY0l0SqIQoE"
      },
      "source": [
        "#Redes Neurais"
      ]
    },
    {
      "cell_type": "code",
      "execution_count": null,
      "metadata": {
        "colab": {
          "base_uri": "https://localhost:8080/"
        },
        "id": "GVi08WIkW62H",
        "outputId": "b8999a31-a5a0-46bf-b540-59669e3c2360"
      },
      "outputs": [
        {
          "output_type": "execute_result",
          "data": {
            "text/plain": [
              "(23517, 5)"
            ]
          },
          "metadata": {},
          "execution_count": 64
        }
      ],
      "source": [
        "x_consumo_treinamento.shape"
      ]
    },
    {
      "cell_type": "code",
      "execution_count": null,
      "metadata": {
        "colab": {
          "base_uri": "https://localhost:8080/"
        },
        "id": "RqaYR3YRF6lY",
        "outputId": "ceea4c73-b213-4b23-85b6-8d7bb22e48e6"
      },
      "outputs": [
        {
          "output_type": "execute_result",
          "data": {
            "text/plain": [
              "3.0"
            ]
          },
          "metadata": {},
          "execution_count": 65
        }
      ],
      "source": [
        "#Definir numero de neuronios\n",
        "(5 + 1) / 2 "
      ]
    },
    {
      "cell_type": "code",
      "execution_count": null,
      "metadata": {
        "id": "uMTY-8ZmHRKH"
      },
      "outputs": [],
      "source": [
        "from sklearn.neural_network import MLPClassifier"
      ]
    },
    {
      "cell_type": "code",
      "execution_count": null,
      "metadata": {
        "colab": {
          "base_uri": "https://localhost:8080/"
        },
        "id": "f2tQyrMLGIaz",
        "outputId": "8c1851c8-f74e-4584-a97a-80853e873506"
      },
      "outputs": [
        {
          "output_type": "execute_result",
          "data": {
            "text/plain": [
              "MLPClassifier(hidden_layer_sizes=(3, 3), max_iter=1000, tol=1e-05)"
            ]
          },
          "metadata": {},
          "execution_count": 67
        }
      ],
      "source": [
        "rna_consumo = MLPClassifier(activation='relu', solver='adam', max_iter=1000, hidden_layer_sizes=(3,3), tol=0.00001)\n",
        "rna_consumo.fit(x_consumo_treinamento, y_consumo_treinamento.ravel())"
      ]
    },
    {
      "cell_type": "code",
      "execution_count": null,
      "metadata": {
        "colab": {
          "base_uri": "https://localhost:8080/"
        },
        "id": "fMORO89vGx16",
        "outputId": "91d3f2ba-68d9-411b-87e6-774d303b4142"
      },
      "outputs": [
        {
          "output_type": "execute_result",
          "data": {
            "text/plain": [
              "array([['Baixo'],\n",
              "       ['Moderado'],\n",
              "       ['Baixo'],\n",
              "       ...,\n",
              "       ['Baixo'],\n",
              "       ['Baixo'],\n",
              "       ['Baixo']], dtype='<U8')"
            ]
          },
          "metadata": {},
          "execution_count": 68
        }
      ],
      "source": [
        "previsoes_rna = rna_consumo.predict(x_consumo_teste).reshape(-1, 1)\n",
        "previsoes_rna"
      ]
    },
    {
      "cell_type": "code",
      "execution_count": null,
      "metadata": {
        "colab": {
          "base_uri": "https://localhost:8080/"
        },
        "id": "Pn7ou48Fe8eO",
        "outputId": "1c509d74-9f4d-433a-f110-d920624ce808"
      },
      "outputs": [
        {
          "output_type": "execute_result",
          "data": {
            "text/plain": [
              "0.9994897308330144"
            ]
          },
          "metadata": {},
          "execution_count": 69
        }
      ],
      "source": [
        "from sklearn.metrics import accuracy_score, classification_report\n",
        "accuracy_score(y_consumo_teste, previsoes_rna)"
      ]
    },
    {
      "cell_type": "code",
      "execution_count": null,
      "metadata": {
        "colab": {
          "base_uri": "https://localhost:8080/",
          "height": 408
        },
        "id": "oBx_D2kEfE_j",
        "outputId": "d5f795c1-d282-4a94-e71f-230aeea527f4"
      },
      "outputs": [
        {
          "output_type": "execute_result",
          "data": {
            "text/plain": [
              "0.9994897308330144"
            ]
          },
          "metadata": {},
          "execution_count": 70
        },
        {
          "output_type": "display_data",
          "data": {
            "text/plain": [
              "<Figure size 576x396 with 1 Axes>"
            ],
            "image/png": "[encoded data removed]"
          },
          "metadata": {}
        }
      ],
      "source": [
        "from yellowbrick.classifier import ConfusionMatrix\n",
        "cm = ConfusionMatrix(rna_consumo)\n",
        "cm.fit(x_consumo_treinamento, y_consumo_treinamento)\n",
        "cm.score(x_consumo_teste, y_consumo_teste)"
      ]
    },
    {
      "cell_type": "code",
      "execution_count": null,
      "metadata": {
        "colab": {
          "base_uri": "https://localhost:8080/"
        },
        "id": "chtWXNeyfbVQ",
        "outputId": "0a9aafac-7ae2-4db1-b8d4-195816c293f7"
      },
      "outputs": [
        {
          "output_type": "stream",
          "name": "stdout",
          "text": [
            "              precision    recall  f1-score   support\n",
            "\n",
            "        Alto       1.00      1.00      1.00       312\n",
            "       Baixo       1.00      1.00      1.00      6235\n",
            "    Moderado       1.00      1.00      1.00      1292\n",
            "\n",
            "    accuracy                           1.00      7839\n",
            "   macro avg       1.00      1.00      1.00      7839\n",
            "weighted avg       1.00      1.00      1.00      7839\n",
            "\n"
          ]
        }
      ],
      "source": [
        "print(classification_report(y_consumo_teste, previsoes_rna))"
      ]
    },
    {
      "cell_type": "markdown",
      "metadata": {
        "id": "24LaQrx9DprA"
      },
      "source": [
        "#SVM"
      ]
    },
    {
      "cell_type": "code",
      "execution_count": null,
      "metadata": {
        "id": "lYAwYfOQr38e"
      },
      "outputs": [],
      "source": [
        "from sklearn.svm import SVC"
      ]
    },
    {
      "cell_type": "code",
      "execution_count": null,
      "metadata": {
        "colab": {
          "base_uri": "https://localhost:8080/"
        },
        "id": "L2HI9-zxr4xS",
        "outputId": "9c433cdf-c78a-492c-d939-557fac47fde2"
      },
      "outputs": [
        {
          "output_type": "execute_result",
          "data": {
            "text/plain": [
              "SVC(kernel='linear', random_state=1)"
            ]
          },
          "metadata": {},
          "execution_count": 73
        }
      ],
      "source": [
        "svm_consumo = SVC(kernel='linear', random_state=1)\n",
        "svm_consumo.fit(x_consumo_treinamento, y_consumo_treinamento)"
      ]
    },
    {
      "cell_type": "code",
      "execution_count": null,
      "metadata": {
        "colab": {
          "base_uri": "https://localhost:8080/"
        },
        "id": "nWGcuISBsArz",
        "outputId": "978c5402-3f11-46c4-a8aa-05b64a694e0f"
      },
      "outputs": [
        {
          "output_type": "execute_result",
          "data": {
            "text/plain": [
              "array(['Baixo', 'Moderado', 'Baixo', ..., 'Baixo', 'Baixo', 'Baixo'],\n",
              "      dtype=object)"
            ]
          },
          "metadata": {},
          "execution_count": 74
        }
      ],
      "source": [
        "previsoes_svm = svm_consumo.predict(x_consumo_teste)\n",
        "previsoes_svm"
      ]
    },
    {
      "cell_type": "code",
      "execution_count": null,
      "metadata": {
        "colab": {
          "base_uri": "https://localhost:8080/"
        },
        "id": "hdpVSKeAsIeR",
        "outputId": "fa01e681-7e81-45ed-a771-828060639e5a"
      },
      "outputs": [
        {
          "output_type": "execute_result",
          "data": {
            "text/plain": [
              "0.9983416252072969"
            ]
          },
          "metadata": {},
          "execution_count": 75
        }
      ],
      "source": [
        "from sklearn.metrics import accuracy_score, classification_report\n",
        "accuracy_score(y_consumo_teste, previsoes_svm)"
      ]
    },
    {
      "cell_type": "code",
      "execution_count": null,
      "metadata": {
        "colab": {
          "base_uri": "https://localhost:8080/",
          "height": 408
        },
        "id": "69bGJjjiAsRs",
        "outputId": "2126dfcb-5161-4efe-d429-fdcb8b5aafca"
      },
      "outputs": [
        {
          "output_type": "execute_result",
          "data": {
            "text/plain": [
              "0.9983416252072969"
            ]
          },
          "metadata": {},
          "execution_count": 76
        },
        {
          "output_type": "display_data",
          "data": {
            "text/plain": [
              "<Figure size 576x396 with 1 Axes>"
            ],
            "image/png": "[encoded data removed]"
          },
          "metadata": {}
        }
      ],
      "source": [
        "from yellowbrick.classifier import ConfusionMatrix\n",
        "cm = ConfusionMatrix(svm_consumo)\n",
        "cm.fit(x_consumo_treinamento, y_consumo_treinamento)\n",
        "cm.score(x_consumo_teste, y_consumo_teste)"
      ]
    },
    {
      "cell_type": "code",
      "execution_count": null,
      "metadata": {
        "colab": {
          "base_uri": "https://localhost:8080/"
        },
        "id": "ijAIxgoyAsM3",
        "outputId": "5b6d9ae8-9787-4294-e1f3-5f2793dac6ef"
      },
      "outputs": [
        {
          "output_type": "stream",
          "name": "stdout",
          "text": [
            "              precision    recall  f1-score   support\n",
            "\n",
            "        Alto       0.99      1.00      1.00       312\n",
            "       Baixo       1.00      1.00      1.00      6235\n",
            "    Moderado       0.99      1.00      0.99      1292\n",
            "\n",
            "    accuracy                           1.00      7839\n",
            "   macro avg       0.99      1.00      1.00      7839\n",
            "weighted avg       1.00      1.00      1.00      7839\n",
            "\n"
          ]
        }
      ],
      "source": [
        "print(classification_report(y_consumo_teste, previsoes_svm))"
      ]
    },
    {
      "cell_type": "markdown",
      "metadata": {
        "id": "gQtPx79rDsMh"
      },
      "source": [
        "#Regressão Logística"
      ]
    },
    {
      "cell_type": "code",
      "execution_count": null,
      "metadata": {
        "id": "meV2B0PpsfqR"
      },
      "outputs": [],
      "source": [
        "from sklearn.linear_model import LogisticRegression"
      ]
    },
    {
      "cell_type": "code",
      "execution_count": null,
      "metadata": {
        "colab": {
          "base_uri": "https://localhost:8080/"
        },
        "id": "Pf9XG1LGshFd",
        "outputId": "3996d854-e662-49c6-edfa-f5cb49eec9f8"
      },
      "outputs": [
        {
          "output_type": "execute_result",
          "data": {
            "text/plain": [
              "LogisticRegression(random_state=1)"
            ]
          },
          "metadata": {},
          "execution_count": 79
        }
      ],
      "source": [
        "logistic_consumo = LogisticRegression(random_state = 1) \n",
        "logistic_consumo.fit(x_consumo_treinamento, y_consumo_treinamento)"
      ]
    },
    {
      "cell_type": "code",
      "execution_count": null,
      "metadata": {
        "colab": {
          "base_uri": "https://localhost:8080/"
        },
        "id": "TFVzKGDws0UI",
        "outputId": "b7dc610e-7b1a-473d-f8b2-e9316dbdd9b9"
      },
      "outputs": [
        {
          "output_type": "execute_result",
          "data": {
            "text/plain": [
              "array(['Baixo', 'Moderado', 'Baixo', ..., 'Baixo', 'Baixo', 'Baixo'],\n",
              "      dtype=object)"
            ]
          },
          "metadata": {},
          "execution_count": 80
        }
      ],
      "source": [
        "previsoes_logistic = logistic_consumo.predict(x_consumo_teste)\n",
        "previsoes_logistic"
      ]
    },
    {
      "cell_type": "code",
      "execution_count": null,
      "metadata": {
        "colab": {
          "base_uri": "https://localhost:8080/"
        },
        "id": "smOHMKGbs-6d",
        "outputId": "117e96ba-8cbb-4529-bd9c-6ca713217d28"
      },
      "outputs": [
        {
          "output_type": "execute_result",
          "data": {
            "text/plain": [
              "0.9982140579155504"
            ]
          },
          "metadata": {},
          "execution_count": 81
        }
      ],
      "source": [
        "from sklearn.metrics import accuracy_score, classification_report\n",
        "accuracy_score(y_consumo_teste, previsoes_logistic)"
      ]
    },
    {
      "cell_type": "code",
      "execution_count": null,
      "metadata": {
        "colab": {
          "base_uri": "https://localhost:8080/",
          "height": 408
        },
        "id": "R8nMSYULAq-2",
        "outputId": "717ee675-7aea-4690-bed7-dc3e7e04606d"
      },
      "outputs": [
        {
          "output_type": "execute_result",
          "data": {
            "text/plain": [
              "0.9982140579155504"
            ]
          },
          "metadata": {},
          "execution_count": 82
        },
        {
          "output_type": "display_data",
          "data": {
            "text/plain": [
              "<Figure size 576x396 with 1 Axes>"
            ],
            "image/png": "[encoded data removed]"
          },
          "metadata": {}
        }
      ],
      "source": [
        "from yellowbrick.classifier import ConfusionMatrix\n",
        "cm = ConfusionMatrix(logistic_consumo)\n",
        "cm.fit(x_consumo_treinamento, y_consumo_treinamento)\n",
        "cm.score(x_consumo_teste, y_consumo_teste)"
      ]
    },
    {
      "cell_type": "code",
      "execution_count": null,
      "metadata": {
        "colab": {
          "base_uri": "https://localhost:8080/"
        },
        "id": "8eykmLfpAq21",
        "outputId": "d7b1c839-def9-4646-e202-13bf4e88df26"
      },
      "outputs": [
        {
          "output_type": "stream",
          "name": "stdout",
          "text": [
            "              precision    recall  f1-score   support\n",
            "\n",
            "        Alto       1.00      0.99      1.00       312\n",
            "       Baixo       1.00      1.00      1.00      6235\n",
            "    Moderado       0.99      1.00      0.99      1292\n",
            "\n",
            "    accuracy                           1.00      7839\n",
            "   macro avg       1.00      1.00      1.00      7839\n",
            "weighted avg       1.00      1.00      1.00      7839\n",
            "\n"
          ]
        }
      ],
      "source": [
        "print(classification_report(y_consumo_teste, previsoes_logistic))"
      ]
    },
    {
      "cell_type": "markdown",
      "metadata": {
        "id": "VGTKSzJ4Dz8y"
      },
      "source": [
        "#Tuning dos parâmetros"
      ]
    },
    {
      "cell_type": "code",
      "execution_count": null,
      "metadata": {
        "id": "_fnRHPlLtNL9"
      },
      "outputs": [],
      "source": [
        "from sklearn.model_selection import GridSearchCV"
      ]
    },
    {
      "cell_type": "code",
      "execution_count": null,
      "metadata": {
        "id": "Yg2gEHEtCxga"
      },
      "outputs": [],
      "source": [
        "parametros_rna = {'activation': ['relu', 'logistic', 'tahn'],\n",
        "              'solver': ['adam', 'sgd']}"
      ]
    },
    {
      "cell_type": "code",
      "execution_count": null,
      "metadata": {
        "id": "CE1uU9mtC1D0"
      },
      "outputs": [],
      "source": [
        "grid_search = GridSearchCV(estimator=MLPClassifier(max_iter=1000, hidden_layer_sizes=(3,3), tol=0.00001), param_grid=parametros_rna)\n",
        "grid_search.fit(x_consumo, y_consumo)\n",
        "melhores_parametros = grid_search.best_params_\n",
        "melhor_resultado = grid_search.best_score_\n",
        "print(melhores_parametros)\n",
        "print(melhor_resultado)"
      ]
    },
    {
      "cell_type": "code",
      "execution_count": null,
      "metadata": {
        "id": "vxMUoxQsGApX"
      },
      "outputs": [],
      "source": [
        "parametros_svc = {'tol': [0.001, 0.0001, 0.00001],\n",
        "              'C': [1.0, 1.5, 2.0],\n",
        "              'kernel': ['rbf', 'linear', 'poly', 'sigmoid']}"
      ]
    },
    {
      "cell_type": "code",
      "execution_count": null,
      "metadata": {
        "id": "EyA-BBV0GAad"
      },
      "outputs": [],
      "source": [
        "grid_search = GridSearchCV(estimator=SVC(), param_grid=parametros_svc)\n",
        "grid_search.fit(x_consumo, y_consumo)\n",
        "melhores_parametros = grid_search.best_params_\n",
        "melhor_resultado = grid_search.best_score_\n",
        "print(melhores_parametros)\n",
        "print(melhor_resultado)"
      ]
    },
    {
      "cell_type": "code",
      "execution_count": null,
      "metadata": {
        "id": "d3lSFTDUtikO"
      },
      "outputs": [],
      "source": [
        "parametros_logistic = {'tol': [0.0001, 0.00001, 0.000001], \n",
        "              'C': [1.0, 1.5, 2.0],\n",
        "              'solver': ['lbfgs', 'sag', 'saga']}"
      ]
    },
    {
      "cell_type": "code",
      "execution_count": null,
      "metadata": {
        "id": "nUP5wc-ZtrEd"
      },
      "outputs": [],
      "source": [
        "grid_search = GridSearchCV(estimator=LogisticRegression(), param_grid=parametros_logistic)\n",
        "grid_search.fit(x_consumo, y_consumo) \n",
        "melhores_parametros = grid_search.best_params_\n",
        "melhor_resultado = grid_search.best_score_\n",
        "print(melhores_parametros)\n",
        "print(melhor_resultado)"
      ]
    },
    {
      "cell_type": "markdown",
      "metadata": {
        "id": "HfSlzluTG-Jc"
      },
      "source": [
        "#Validação cruzada"
      ]
    },
    {
      "cell_type": "code",
      "execution_count": null,
      "metadata": {
        "id": "HujJPgJDGVM2"
      },
      "outputs": [],
      "source": [
        "from sklearn.model_selection import cross_val_score, KFold"
      ]
    },
    {
      "cell_type": "code",
      "execution_count": null,
      "metadata": {
        "id": "Y2a1ln1IGVw_"
      },
      "outputs": [],
      "source": [
        "resultados_naive = []\n",
        "resultados_rna = []\n",
        "resultados_svm = []\n",
        "resultados_logistic = []\n",
        "\n",
        "for i in range(30): \n",
        "  print(i)\n",
        "  kfold = KFold(n_splits=10, shuffle=True, random_state=i) \n",
        "\n",
        "  naive = GaussianNB()\n",
        "  scores = cross_val_score(naive, x_consumo_treinamento, y_consumo_treinamento, cv = kfold)\n",
        "  resultados_naive.append(scores.mean())\n",
        "\n",
        "  logistic = LogisticRegression(random_state = 1)\n",
        "  scores = cross_val_score(logistic, x_consumo_treinamento, y_consumo_treinamento, cv = kfold)\n",
        "  resultados_logistic.append(scores.mean())\n",
        "\n",
        "  svm = SVC(kernel='linear', random_state=1)\n",
        "  scores = cross_val_score(svm, x_consumo_treinamento, y_consumo_treinamento, cv = kfold)\n",
        "  resultados_svm.append(scores.mean())\n",
        "\n",
        "  rede_neural = MLPClassifier(activation='relu', solver='adam', max_iter=1000, hidden_layer_sizes=(3,3),tol=0.00001)\n",
        "  scores = cross_val_score(rede_neural, x_consumo_treinamento, y_consumo_treinamento, cv = kfold)\n",
        "  resultados_rna.append(scores.mean())"
      ]
    },
    {
      "cell_type": "code",
      "execution_count": null,
      "metadata": {
        "colab": {
          "base_uri": "https://localhost:8080/",
          "height": 363
        },
        "id": "fu3AtPAxMzPx",
        "outputId": "11f0c1cd-97ba-458f-bfba-58fdb72942f5"
      },
      "outputs": [
        {
          "output_type": "execute_result",
          "data": {
            "text/plain": [
              "   Naive Bayes  Logistica       SVM  Rede neural\n",
              "0     0.976230   0.997704  0.997449     0.958886\n",
              "1     0.976400   0.997746  0.997278     0.999490\n",
              "2     0.976230   0.997661  0.997279     0.978912\n",
              "3     0.976315   0.997874  0.997194     0.995961\n",
              "4     0.976358   0.997789  0.997364     0.999702\n",
              "5     0.976145   0.997704  0.997491     0.999575\n",
              "6     0.976230   0.997916  0.997491     0.999192\n",
              "7     0.976315   0.997789  0.997576     0.996386\n",
              "8     0.976187   0.997576  0.997194     0.978784\n",
              "9     0.976358   0.997661  0.997491     0.999745"
            ],
            "text/html": [
              "\n",
              "  <div id=\"df-fd550954-78de-44cc-87c0-1afe1a881462\">\n",
              "    <div class=\"colab-df-container\">\n",
              "      <div>\n",
              "<style scoped>\n",
              "    .dataframe tbody tr th:only-of-type {\n",
              "        vertical-align: middle;\n",
              "    }\n",
              "\n",
              "    .dataframe tbody tr th {\n",
              "        vertical-align: top;\n",
              "    }\n",
              "\n",
              "    .dataframe thead th {\n",
              "        text-align: right;\n",
              "    }\n",
              "</style>\n",
              "<table border=\"1\" class=\"dataframe\">\n",
              "  <thead>\n",
              "    <tr style=\"text-align: right;\">\n",
              "      <th></th>\n",
              "      <th>Naive Bayes</th>\n",
              "      <th>Logistica</th>\n",
              "      <th>SVM</th>\n",
              "      <th>Rede neural</th>\n",
              "    </tr>\n",
              "  </thead>\n",
              "  <tbody>\n",
              "    <tr>\n",
              "      <th>0</th>\n",
              "      <td>0.976230</td>\n",
              "      <td>0.997704</td>\n",
              "      <td>0.997449</td>\n",
              "      <td>0.958886</td>\n",
              "    </tr>\n",
              "    <tr>\n",
              "      <th>1</th>\n",
              "      <td>0.976400</td>\n",
              "      <td>0.997746</td>\n",
              "      <td>0.997278</td>\n",
              "      <td>0.999490</td>\n",
              "    </tr>\n",
              "    <tr>\n",
              "      <th>2</th>\n",
              "      <td>0.976230</td>\n",
              "      <td>0.997661</td>\n",
              "      <td>0.997279</td>\n",
              "      <td>0.978912</td>\n",
              "    </tr>\n",
              "    <tr>\n",
              "      <th>3</th>\n",
              "      <td>0.976315</td>\n",
              "      <td>0.997874</td>\n",
              "      <td>0.997194</td>\n",
              "      <td>0.995961</td>\n",
              "    </tr>\n",
              "    <tr>\n",
              "      <th>4</th>\n",
              "      <td>0.976358</td>\n",
              "      <td>0.997789</td>\n",
              "      <td>0.997364</td>\n",
              "      <td>0.999702</td>\n",
              "    </tr>\n",
              "    <tr>\n",
              "      <th>5</th>\n",
              "      <td>0.976145</td>\n",
              "      <td>0.997704</td>\n",
              "      <td>0.997491</td>\n",
              "      <td>0.999575</td>\n",
              "    </tr>\n",
              "    <tr>\n",
              "      <th>6</th>\n",
              "      <td>0.976230</td>\n",
              "      <td>0.997916</td>\n",
              "      <td>0.997491</td>\n",
              "      <td>0.999192</td>\n",
              "    </tr>\n",
              "    <tr>\n",
              "      <th>7</th>\n",
              "      <td>0.976315</td>\n",
              "      <td>0.997789</td>\n",
              "      <td>0.997576</td>\n",
              "      <td>0.996386</td>\n",
              "    </tr>\n",
              "    <tr>\n",
              "      <th>8</th>\n",
              "      <td>0.976187</td>\n",
              "      <td>0.997576</td>\n",
              "      <td>0.997194</td>\n",
              "      <td>0.978784</td>\n",
              "    </tr>\n",
              "    <tr>\n",
              "      <th>9</th>\n",
              "      <td>0.976358</td>\n",
              "      <td>0.997661</td>\n",
              "      <td>0.997491</td>\n",
              "      <td>0.999745</td>\n",
              "    </tr>\n",
              "  </tbody>\n",
              "</table>\n",
              "</div>\n",
              "      <button class=\"colab-df-convert\" onclick=\"convertToInteractive('df-fd550954-78de-44cc-87c0-1afe1a881462')\"\n",
              "              title=\"Convert this dataframe to an interactive table.\"\n",
              "              style=\"display:none;\">\n",
              "        \n",
              "  <svg xmlns=\"http://www.w3.org/2000/svg\" height=\"24px\"viewBox=\"0 0 24 24\"\n",
              "       width=\"24px\">\n",
              "    <path d=\"M0 0h24v24H0V0z\" fill=\"none\"/>\n",
              "    <path d=\"M18.56 5.44l.94 2.06.94-2.06 2.06-.94-2.06-.94-.94-2.06-.94 2.06-2.06.94zm-11 1L8.5 8.5l.94-2.06 2.06-.94-2.06-.94L8.5 2.5l-.94 2.06-2.06.94zm10 10l.94 2.06.94-2.06 2.06-.94-2.06-.94-.94-2.06-.94 2.06-2.06.94z\"/><path d=\"M17.41 7.96l-1.37-1.37c-.4-.4-.92-.59-1.43-.59-.52 0-1.04.2-1.43.59L10.3 9.45l-7.72 7.72c-.78.78-.78 2.05 0 2.83L4 21.41c.39.39.9.59 1.41.59.51 0 1.02-.2 1.41-.59l7.78-7.78 2.81-2.81c.8-.78.8-2.07 0-2.86zM5.41 20L4 18.59l7.72-7.72 1.47 1.35L5.41 20z\"/>\n",
              "  </svg>\n",
              "      </button>\n",
              "      \n",
              "  <style>\n",
              "    .colab-df-container {\n",
              "      display:flex;\n",
              "      flex-wrap:wrap;\n",
              "      gap: 12px;\n",
              "    }\n",
              "\n",
              "    .colab-df-convert {\n",
              "      background-color: #E8F0FE;\n",
              "      border: none;\n",
              "      border-radius: 50%;\n",
              "      cursor: pointer;\n",
              "      display: none;\n",
              "      fill: #1967D2;\n",
              "      height: 32px;\n",
              "      padding: 0 0 0 0;\n",
              "      width: 32px;\n",
              "    }\n",
              "\n",
              "    .colab-df-convert:hover {\n",
              "      background-color: #E2EBFA;\n",
              "      box-shadow: 0px 1px 2px rgba(60, 64, 67, 0.3), 0px 1px 3px 1px rgba(60, 64, 67, 0.15);\n",
              "      fill: #174EA6;\n",
              "    }\n",
              "\n",
              "    [theme=dark] .colab-df-convert {\n",
              "      background-color: #3B4455;\n",
              "      fill: #D2E3FC;\n",
              "    }\n",
              "\n",
              "    [theme=dark] .colab-df-convert:hover {\n",
              "      background-color: #434B5C;\n",
              "      box-shadow: 0px 1px 3px 1px rgba(0, 0, 0, 0.15);\n",
              "      filter: drop-shadow(0px 1px 2px rgba(0, 0, 0, 0.3));\n",
              "      fill: #FFFFFF;\n",
              "    }\n",
              "  </style>\n",
              "\n",
              "      <script>\n",
              "        const buttonEl =\n",
              "          document.querySelector('#df-fd550954-78de-44cc-87c0-1afe1a881462 button.colab-df-convert');\n",
              "        buttonEl.style.display =\n",
              "          google.colab.kernel.accessAllowed ? 'block' : 'none';\n",
              "\n",
              "        async function convertToInteractive(key) {\n",
              "          const element = document.querySelector('#df-fd550954-78de-44cc-87c0-1afe1a881462');\n",
              "          const dataTable =\n",
              "            await google.colab.kernel.invokeFunction('convertToInteractive',\n",
              "                                                     [key], {});\n",
              "          if (!dataTable) return;\n",
              "\n",
              "          const docLinkHtml = 'Like what you see? Visit the ' +\n",
              "            '<a target=\"_blank\" href=https://colab.research.google.com/notebooks/data_table.ipynb>data table notebook</a>'\n",
              "            + ' to learn more about interactive tables.';\n",
              "          element.innerHTML = '';\n",
              "          dataTable['output_type'] = 'display_data';\n",
              "          await google.colab.output.renderOutput(dataTable, element);\n",
              "          const docLink = document.createElement('div');\n",
              "          docLink.innerHTML = docLinkHtml;\n",
              "          element.appendChild(docLink);\n",
              "        }\n",
              "      </script>\n",
              "    </div>\n",
              "  </div>\n",
              "  "
            ]
          },
          "metadata": {},
          "execution_count": 93
        }
      ],
      "source": [
        "resultados = pd.DataFrame({'Naive Bayes': resultados_naive, 'Logistica': resultados_logistic,\n",
        "                           'SVM': resultados_svm, 'Rede neural': resultados_rna})\n",
        "resultados"
      ]
    },
    {
      "cell_type": "code",
      "execution_count": null,
      "metadata": {
        "colab": {
          "base_uri": "https://localhost:8080/",
          "height": 300
        },
        "id": "oXNVGLnyM-hw",
        "outputId": "699f2643-3c99-46a5-dca0-527952faf153"
      },
      "outputs": [
        {
          "output_type": "execute_result",
          "data": {
            "text/plain": [
              "       Naive Bayes  Logistica        SVM  Rede neural\n",
              "count    10.000000  10.000000  10.000000    10.000000\n",
              "mean      0.976277   0.997742   0.997381     0.990663\n",
              "std       0.000084   0.000103   0.000138     0.013921\n",
              "min       0.976145   0.997576   0.997194     0.958886\n",
              "25%       0.976230   0.997672   0.997278     0.983174\n",
              "50%       0.976273   0.997725   0.997406     0.997789\n",
              "75%       0.976347   0.997789   0.997491     0.999554\n",
              "max       0.976400   0.997916   0.997576     0.999745"
            ],
            "text/html": [
              "\n",
              "  <div id=\"df-8155393a-b0b4-4f49-8410-0bf3db0f1e59\">\n",
              "    <div class=\"colab-df-container\">\n",
              "      <div>\n",
              "<style scoped>\n",
              "    .dataframe tbody tr th:only-of-type {\n",
              "        vertical-align: middle;\n",
              "    }\n",
              "\n",
              "    .dataframe tbody tr th {\n",
              "        vertical-align: top;\n",
              "    }\n",
              "\n",
              "    .dataframe thead th {\n",
              "        text-align: right;\n",
              "    }\n",
              "</style>\n",
              "<table border=\"1\" class=\"dataframe\">\n",
              "  <thead>\n",
              "    <tr style=\"text-align: right;\">\n",
              "      <th></th>\n",
              "      <th>Naive Bayes</th>\n",
              "      <th>Logistica</th>\n",
              "      <th>SVM</th>\n",
              "      <th>Rede neural</th>\n",
              "    </tr>\n",
              "  </thead>\n",
              "  <tbody>\n",
              "    <tr>\n",
              "      <th>count</th>\n",
              "      <td>10.000000</td>\n",
              "      <td>10.000000</td>\n",
              "      <td>10.000000</td>\n",
              "      <td>10.000000</td>\n",
              "    </tr>\n",
              "    <tr>\n",
              "      <th>mean</th>\n",
              "      <td>0.976277</td>\n",
              "      <td>0.997742</td>\n",
              "      <td>0.997381</td>\n",
              "      <td>0.990663</td>\n",
              "    </tr>\n",
              "    <tr>\n",
              "      <th>std</th>\n",
              "      <td>0.000084</td>\n",
              "      <td>0.000103</td>\n",
              "      <td>0.000138</td>\n",
              "      <td>0.013921</td>\n",
              "    </tr>\n",
              "    <tr>\n",
              "      <th>min</th>\n",
              "      <td>0.976145</td>\n",
              "      <td>0.997576</td>\n",
              "      <td>0.997194</td>\n",
              "      <td>0.958886</td>\n",
              "    </tr>\n",
              "    <tr>\n",
              "      <th>25%</th>\n",
              "      <td>0.976230</td>\n",
              "      <td>0.997672</td>\n",
              "      <td>0.997278</td>\n",
              "      <td>0.983174</td>\n",
              "    </tr>\n",
              "    <tr>\n",
              "      <th>50%</th>\n",
              "      <td>0.976273</td>\n",
              "      <td>0.997725</td>\n",
              "      <td>0.997406</td>\n",
              "      <td>0.997789</td>\n",
              "    </tr>\n",
              "    <tr>\n",
              "      <th>75%</th>\n",
              "      <td>0.976347</td>\n",
              "      <td>0.997789</td>\n",
              "      <td>0.997491</td>\n",
              "      <td>0.999554</td>\n",
              "    </tr>\n",
              "    <tr>\n",
              "      <th>max</th>\n",
              "      <td>0.976400</td>\n",
              "      <td>0.997916</td>\n",
              "      <td>0.997576</td>\n",
              "      <td>0.999745</td>\n",
              "    </tr>\n",
              "  </tbody>\n",
              "</table>\n",
              "</div>\n",
              "      <button class=\"colab-df-convert\" onclick=\"convertToInteractive('df-8155393a-b0b4-4f49-8410-0bf3db0f1e59')\"\n",
              "              title=\"Convert this dataframe to an interactive table.\"\n",
              "              style=\"display:none;\">\n",
              "        \n",
              "  <svg xmlns=\"http://www.w3.org/2000/svg\" height=\"24px\"viewBox=\"0 0 24 24\"\n",
              "       width=\"24px\">\n",
              "    <path d=\"M0 0h24v24H0V0z\" fill=\"none\"/>\n",
              "    <path d=\"M18.56 5.44l.94 2.06.94-2.06 2.06-.94-2.06-.94-.94-2.06-.94 2.06-2.06.94zm-11 1L8.5 8.5l.94-2.06 2.06-.94-2.06-.94L8.5 2.5l-.94 2.06-2.06.94zm10 10l.94 2.06.94-2.06 2.06-.94-2.06-.94-.94-2.06-.94 2.06-2.06.94z\"/><path d=\"M17.41 7.96l-1.37-1.37c-.4-.4-.92-.59-1.43-.59-.52 0-1.04.2-1.43.59L10.3 9.45l-7.72 7.72c-.78.78-.78 2.05 0 2.83L4 21.41c.39.39.9.59 1.41.59.51 0 1.02-.2 1.41-.59l7.78-7.78 2.81-2.81c.8-.78.8-2.07 0-2.86zM5.41 20L4 18.59l7.72-7.72 1.47 1.35L5.41 20z\"/>\n",
              "  </svg>\n",
              "      </button>\n",
              "      \n",
              "  <style>\n",
              "    .colab-df-container {\n",
              "      display:flex;\n",
              "      flex-wrap:wrap;\n",
              "      gap: 12px;\n",
              "    }\n",
              "\n",
              "    .colab-df-convert {\n",
              "      background-color: #E8F0FE;\n",
              "      border: none;\n",
              "      border-radius: 50%;\n",
              "      cursor: pointer;\n",
              "      display: none;\n",
              "      fill: #1967D2;\n",
              "      height: 32px;\n",
              "      padding: 0 0 0 0;\n",
              "      width: 32px;\n",
              "    }\n",
              "\n",
              "    .colab-df-convert:hover {\n",
              "      background-color: #E2EBFA;\n",
              "      box-shadow: 0px 1px 2px rgba(60, 64, 67, 0.3), 0px 1px 3px 1px rgba(60, 64, 67, 0.15);\n",
              "      fill: #174EA6;\n",
              "    }\n",
              "\n",
              "    [theme=dark] .colab-df-convert {\n",
              "      background-color: #3B4455;\n",
              "      fill: #D2E3FC;\n",
              "    }\n",
              "\n",
              "    [theme=dark] .colab-df-convert:hover {\n",
              "      background-color: #434B5C;\n",
              "      box-shadow: 0px 1px 3px 1px rgba(0, 0, 0, 0.15);\n",
              "      filter: drop-shadow(0px 1px 2px rgba(0, 0, 0, 0.3));\n",
              "      fill: #FFFFFF;\n",
              "    }\n",
              "  </style>\n",
              "\n",
              "      <script>\n",
              "        const buttonEl =\n",
              "          document.querySelector('#df-8155393a-b0b4-4f49-8410-0bf3db0f1e59 button.colab-df-convert');\n",
              "        buttonEl.style.display =\n",
              "          google.colab.kernel.accessAllowed ? 'block' : 'none';\n",
              "\n",
              "        async function convertToInteractive(key) {\n",
              "          const element = document.querySelector('#df-8155393a-b0b4-4f49-8410-0bf3db0f1e59');\n",
              "          const dataTable =\n",
              "            await google.colab.kernel.invokeFunction('convertToInteractive',\n",
              "                                                     [key], {});\n",
              "          if (!dataTable) return;\n",
              "\n",
              "          const docLinkHtml = 'Like what you see? Visit the ' +\n",
              "            '<a target=\"_blank\" href=https://colab.research.google.com/notebooks/data_table.ipynb>data table notebook</a>'\n",
              "            + ' to learn more about interactive tables.';\n",
              "          element.innerHTML = '';\n",
              "          dataTable['output_type'] = 'display_data';\n",
              "          await google.colab.output.renderOutput(dataTable, element);\n",
              "          const docLink = document.createElement('div');\n",
              "          docLink.innerHTML = docLinkHtml;\n",
              "          element.appendChild(docLink);\n",
              "        }\n",
              "      </script>\n",
              "    </div>\n",
              "  </div>\n",
              "  "
            ]
          },
          "metadata": {},
          "execution_count": 94
        }
      ],
      "source": [
        "resultados.describe() "
      ]
    }
  ],
  "metadata": {
    "colab": {
      "provenance": []
    },
    "kernelspec": {
      "display_name": "Python 3",
      "name": "python3"
    },
    "language_info": {
      "name": "python"
    }
  },
  "nbformat": 4,
  "nbformat_minor": 0
}